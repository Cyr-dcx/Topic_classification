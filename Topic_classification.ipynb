{
  "nbformat": 4,
  "nbformat_minor": 0,
  "metadata": {
    "colab": {
      "name": "Beamy_topic_classification.ipynb",
      "provenance": [],
      "collapsed_sections": [
        "Nskcqk9QYYV1",
        "UK2KFOg7ZWbZ"
      ]
    },
    "kernelspec": {
      "name": "python3",
      "display_name": "Python 3"
    },
    "language_info": {
      "name": "python"
    }
  },
  "cells": [
    {
      "cell_type": "markdown",
      "source": [
        "# Import data & libraries"
      ],
      "metadata": {
        "id": "04ZgqwoVX1QB"
      }
    },
    {
      "cell_type": "code",
      "execution_count": 1,
      "metadata": {
        "colab": {
          "base_uri": "https://localhost:8080/"
        },
        "id": "_Gb5dR_J66pO",
        "outputId": "4150bfce-6a68-4e80-b7c8-f547d08f3c1c"
      },
      "outputs": [
        {
          "output_type": "stream",
          "name": "stdout",
          "text": [
            "[nltk_data] Downloading package stopwords to /root/nltk_data...\n",
            "[nltk_data]   Package stopwords is already up-to-date!\n",
            "[nltk_data] Downloading package punkt to /root/nltk_data...\n",
            "[nltk_data]   Package punkt is already up-to-date!\n",
            "[nltk_data] Downloading package wordnet to /root/nltk_data...\n",
            "[nltk_data]   Package wordnet is already up-to-date!\n"
          ]
        },
        {
          "output_type": "execute_result",
          "data": {
            "text/plain": [
              "True"
            ]
          },
          "metadata": {},
          "execution_count": 1
        }
      ],
      "source": [
        "import pandas as pd\n",
        "import numpy as np\n",
        "import matplotlib.pyplot as plt\n",
        "import nltk\n",
        "import seaborn as sns\n",
        "import collections\n",
        "\n",
        "nltk.download('stopwords')\n",
        "nltk.download('punkt')\n",
        "nltk.download('wordnet')"
      ]
    },
    {
      "cell_type": "code",
      "source": [
        "data = pd.read_csv('train.csv')\n",
        "data.head(2)"
      ],
      "metadata": {
        "colab": {
          "base_uri": "https://localhost:8080/",
          "height": 112
        },
        "id": "m4Kl2R938A0V",
        "outputId": "a46600cd-6854-41f8-ca0e-a1f7339c317a"
      },
      "execution_count": 2,
      "outputs": [
        {
          "output_type": "execute_result",
          "data": {
            "text/html": [
              "\n",
              "  <div id=\"df-71d4b34d-248d-4882-a880-d272434e3ba4\">\n",
              "    <div class=\"colab-df-container\">\n",
              "      <div>\n",
              "<style scoped>\n",
              "    .dataframe tbody tr th:only-of-type {\n",
              "        vertical-align: middle;\n",
              "    }\n",
              "\n",
              "    .dataframe tbody tr th {\n",
              "        vertical-align: top;\n",
              "    }\n",
              "\n",
              "    .dataframe thead th {\n",
              "        text-align: right;\n",
              "    }\n",
              "</style>\n",
              "<table border=\"1\" class=\"dataframe\">\n",
              "  <thead>\n",
              "    <tr style=\"text-align: right;\">\n",
              "      <th></th>\n",
              "      <th>id</th>\n",
              "      <th>keyword</th>\n",
              "      <th>location</th>\n",
              "      <th>text</th>\n",
              "      <th>target</th>\n",
              "    </tr>\n",
              "  </thead>\n",
              "  <tbody>\n",
              "    <tr>\n",
              "      <th>0</th>\n",
              "      <td>1</td>\n",
              "      <td>NaN</td>\n",
              "      <td>NaN</td>\n",
              "      <td>Our Deeds are the Reason of this #earthquake M...</td>\n",
              "      <td>1</td>\n",
              "    </tr>\n",
              "    <tr>\n",
              "      <th>1</th>\n",
              "      <td>4</td>\n",
              "      <td>NaN</td>\n",
              "      <td>NaN</td>\n",
              "      <td>Forest fire near La Ronge Sask. Canada</td>\n",
              "      <td>1</td>\n",
              "    </tr>\n",
              "  </tbody>\n",
              "</table>\n",
              "</div>\n",
              "      <button class=\"colab-df-convert\" onclick=\"convertToInteractive('df-71d4b34d-248d-4882-a880-d272434e3ba4')\"\n",
              "              title=\"Convert this dataframe to an interactive table.\"\n",
              "              style=\"display:none;\">\n",
              "        \n",
              "  <svg xmlns=\"http://www.w3.org/2000/svg\" height=\"24px\"viewBox=\"0 0 24 24\"\n",
              "       width=\"24px\">\n",
              "    <path d=\"M0 0h24v24H0V0z\" fill=\"none\"/>\n",
              "    <path d=\"M18.56 5.44l.94 2.06.94-2.06 2.06-.94-2.06-.94-.94-2.06-.94 2.06-2.06.94zm-11 1L8.5 8.5l.94-2.06 2.06-.94-2.06-.94L8.5 2.5l-.94 2.06-2.06.94zm10 10l.94 2.06.94-2.06 2.06-.94-2.06-.94-.94-2.06-.94 2.06-2.06.94z\"/><path d=\"M17.41 7.96l-1.37-1.37c-.4-.4-.92-.59-1.43-.59-.52 0-1.04.2-1.43.59L10.3 9.45l-7.72 7.72c-.78.78-.78 2.05 0 2.83L4 21.41c.39.39.9.59 1.41.59.51 0 1.02-.2 1.41-.59l7.78-7.78 2.81-2.81c.8-.78.8-2.07 0-2.86zM5.41 20L4 18.59l7.72-7.72 1.47 1.35L5.41 20z\"/>\n",
              "  </svg>\n",
              "      </button>\n",
              "      \n",
              "  <style>\n",
              "    .colab-df-container {\n",
              "      display:flex;\n",
              "      flex-wrap:wrap;\n",
              "      gap: 12px;\n",
              "    }\n",
              "\n",
              "    .colab-df-convert {\n",
              "      background-color: #E8F0FE;\n",
              "      border: none;\n",
              "      border-radius: 50%;\n",
              "      cursor: pointer;\n",
              "      display: none;\n",
              "      fill: #1967D2;\n",
              "      height: 32px;\n",
              "      padding: 0 0 0 0;\n",
              "      width: 32px;\n",
              "    }\n",
              "\n",
              "    .colab-df-convert:hover {\n",
              "      background-color: #E2EBFA;\n",
              "      box-shadow: 0px 1px 2px rgba(60, 64, 67, 0.3), 0px 1px 3px 1px rgba(60, 64, 67, 0.15);\n",
              "      fill: #174EA6;\n",
              "    }\n",
              "\n",
              "    [theme=dark] .colab-df-convert {\n",
              "      background-color: #3B4455;\n",
              "      fill: #D2E3FC;\n",
              "    }\n",
              "\n",
              "    [theme=dark] .colab-df-convert:hover {\n",
              "      background-color: #434B5C;\n",
              "      box-shadow: 0px 1px 3px 1px rgba(0, 0, 0, 0.15);\n",
              "      filter: drop-shadow(0px 1px 2px rgba(0, 0, 0, 0.3));\n",
              "      fill: #FFFFFF;\n",
              "    }\n",
              "  </style>\n",
              "\n",
              "      <script>\n",
              "        const buttonEl =\n",
              "          document.querySelector('#df-71d4b34d-248d-4882-a880-d272434e3ba4 button.colab-df-convert');\n",
              "        buttonEl.style.display =\n",
              "          google.colab.kernel.accessAllowed ? 'block' : 'none';\n",
              "\n",
              "        async function convertToInteractive(key) {\n",
              "          const element = document.querySelector('#df-71d4b34d-248d-4882-a880-d272434e3ba4');\n",
              "          const dataTable =\n",
              "            await google.colab.kernel.invokeFunction('convertToInteractive',\n",
              "                                                     [key], {});\n",
              "          if (!dataTable) return;\n",
              "\n",
              "          const docLinkHtml = 'Like what you see? Visit the ' +\n",
              "            '<a target=\"_blank\" href=https://colab.research.google.com/notebooks/data_table.ipynb>data table notebook</a>'\n",
              "            + ' to learn more about interactive tables.';\n",
              "          element.innerHTML = '';\n",
              "          dataTable['output_type'] = 'display_data';\n",
              "          await google.colab.output.renderOutput(dataTable, element);\n",
              "          const docLink = document.createElement('div');\n",
              "          docLink.innerHTML = docLinkHtml;\n",
              "          element.appendChild(docLink);\n",
              "        }\n",
              "      </script>\n",
              "    </div>\n",
              "  </div>\n",
              "  "
            ],
            "text/plain": [
              "   id keyword  ...                                               text target\n",
              "0   1     NaN  ...  Our Deeds are the Reason of this #earthquake M...      1\n",
              "1   4     NaN  ...             Forest fire near La Ronge Sask. Canada      1\n",
              "\n",
              "[2 rows x 5 columns]"
            ]
          },
          "metadata": {},
          "execution_count": 2
        }
      ]
    },
    {
      "cell_type": "code",
      "source": [
        "data_test = pd.read_csv('test.csv')\n",
        "data_test.head()"
      ],
      "metadata": {
        "colab": {
          "base_uri": "https://localhost:8080/",
          "height": 206
        },
        "id": "ZaOkd-IQXy0V",
        "outputId": "61ed530a-d6a4-49c3-ae35-bef870e151d5"
      },
      "execution_count": 3,
      "outputs": [
        {
          "output_type": "execute_result",
          "data": {
            "text/html": [
              "\n",
              "  <div id=\"df-6b1c9e47-22bd-4a96-bbd9-1aefb9aa0512\">\n",
              "    <div class=\"colab-df-container\">\n",
              "      <div>\n",
              "<style scoped>\n",
              "    .dataframe tbody tr th:only-of-type {\n",
              "        vertical-align: middle;\n",
              "    }\n",
              "\n",
              "    .dataframe tbody tr th {\n",
              "        vertical-align: top;\n",
              "    }\n",
              "\n",
              "    .dataframe thead th {\n",
              "        text-align: right;\n",
              "    }\n",
              "</style>\n",
              "<table border=\"1\" class=\"dataframe\">\n",
              "  <thead>\n",
              "    <tr style=\"text-align: right;\">\n",
              "      <th></th>\n",
              "      <th>id</th>\n",
              "      <th>keyword</th>\n",
              "      <th>location</th>\n",
              "      <th>text</th>\n",
              "    </tr>\n",
              "  </thead>\n",
              "  <tbody>\n",
              "    <tr>\n",
              "      <th>0</th>\n",
              "      <td>0</td>\n",
              "      <td>NaN</td>\n",
              "      <td>NaN</td>\n",
              "      <td>Just happened a terrible car crash</td>\n",
              "    </tr>\n",
              "    <tr>\n",
              "      <th>1</th>\n",
              "      <td>2</td>\n",
              "      <td>NaN</td>\n",
              "      <td>NaN</td>\n",
              "      <td>Heard about #earthquake is different cities, s...</td>\n",
              "    </tr>\n",
              "    <tr>\n",
              "      <th>2</th>\n",
              "      <td>3</td>\n",
              "      <td>NaN</td>\n",
              "      <td>NaN</td>\n",
              "      <td>there is a forest fire at spot pond, geese are...</td>\n",
              "    </tr>\n",
              "    <tr>\n",
              "      <th>3</th>\n",
              "      <td>9</td>\n",
              "      <td>NaN</td>\n",
              "      <td>NaN</td>\n",
              "      <td>Apocalypse lighting. #Spokane #wildfires</td>\n",
              "    </tr>\n",
              "    <tr>\n",
              "      <th>4</th>\n",
              "      <td>11</td>\n",
              "      <td>NaN</td>\n",
              "      <td>NaN</td>\n",
              "      <td>Typhoon Soudelor kills 28 in China and Taiwan</td>\n",
              "    </tr>\n",
              "  </tbody>\n",
              "</table>\n",
              "</div>\n",
              "      <button class=\"colab-df-convert\" onclick=\"convertToInteractive('df-6b1c9e47-22bd-4a96-bbd9-1aefb9aa0512')\"\n",
              "              title=\"Convert this dataframe to an interactive table.\"\n",
              "              style=\"display:none;\">\n",
              "        \n",
              "  <svg xmlns=\"http://www.w3.org/2000/svg\" height=\"24px\"viewBox=\"0 0 24 24\"\n",
              "       width=\"24px\">\n",
              "    <path d=\"M0 0h24v24H0V0z\" fill=\"none\"/>\n",
              "    <path d=\"M18.56 5.44l.94 2.06.94-2.06 2.06-.94-2.06-.94-.94-2.06-.94 2.06-2.06.94zm-11 1L8.5 8.5l.94-2.06 2.06-.94-2.06-.94L8.5 2.5l-.94 2.06-2.06.94zm10 10l.94 2.06.94-2.06 2.06-.94-2.06-.94-.94-2.06-.94 2.06-2.06.94z\"/><path d=\"M17.41 7.96l-1.37-1.37c-.4-.4-.92-.59-1.43-.59-.52 0-1.04.2-1.43.59L10.3 9.45l-7.72 7.72c-.78.78-.78 2.05 0 2.83L4 21.41c.39.39.9.59 1.41.59.51 0 1.02-.2 1.41-.59l7.78-7.78 2.81-2.81c.8-.78.8-2.07 0-2.86zM5.41 20L4 18.59l7.72-7.72 1.47 1.35L5.41 20z\"/>\n",
              "  </svg>\n",
              "      </button>\n",
              "      \n",
              "  <style>\n",
              "    .colab-df-container {\n",
              "      display:flex;\n",
              "      flex-wrap:wrap;\n",
              "      gap: 12px;\n",
              "    }\n",
              "\n",
              "    .colab-df-convert {\n",
              "      background-color: #E8F0FE;\n",
              "      border: none;\n",
              "      border-radius: 50%;\n",
              "      cursor: pointer;\n",
              "      display: none;\n",
              "      fill: #1967D2;\n",
              "      height: 32px;\n",
              "      padding: 0 0 0 0;\n",
              "      width: 32px;\n",
              "    }\n",
              "\n",
              "    .colab-df-convert:hover {\n",
              "      background-color: #E2EBFA;\n",
              "      box-shadow: 0px 1px 2px rgba(60, 64, 67, 0.3), 0px 1px 3px 1px rgba(60, 64, 67, 0.15);\n",
              "      fill: #174EA6;\n",
              "    }\n",
              "\n",
              "    [theme=dark] .colab-df-convert {\n",
              "      background-color: #3B4455;\n",
              "      fill: #D2E3FC;\n",
              "    }\n",
              "\n",
              "    [theme=dark] .colab-df-convert:hover {\n",
              "      background-color: #434B5C;\n",
              "      box-shadow: 0px 1px 3px 1px rgba(0, 0, 0, 0.15);\n",
              "      filter: drop-shadow(0px 1px 2px rgba(0, 0, 0, 0.3));\n",
              "      fill: #FFFFFF;\n",
              "    }\n",
              "  </style>\n",
              "\n",
              "      <script>\n",
              "        const buttonEl =\n",
              "          document.querySelector('#df-6b1c9e47-22bd-4a96-bbd9-1aefb9aa0512 button.colab-df-convert');\n",
              "        buttonEl.style.display =\n",
              "          google.colab.kernel.accessAllowed ? 'block' : 'none';\n",
              "\n",
              "        async function convertToInteractive(key) {\n",
              "          const element = document.querySelector('#df-6b1c9e47-22bd-4a96-bbd9-1aefb9aa0512');\n",
              "          const dataTable =\n",
              "            await google.colab.kernel.invokeFunction('convertToInteractive',\n",
              "                                                     [key], {});\n",
              "          if (!dataTable) return;\n",
              "\n",
              "          const docLinkHtml = 'Like what you see? Visit the ' +\n",
              "            '<a target=\"_blank\" href=https://colab.research.google.com/notebooks/data_table.ipynb>data table notebook</a>'\n",
              "            + ' to learn more about interactive tables.';\n",
              "          element.innerHTML = '';\n",
              "          dataTable['output_type'] = 'display_data';\n",
              "          await google.colab.output.renderOutput(dataTable, element);\n",
              "          const docLink = document.createElement('div');\n",
              "          docLink.innerHTML = docLinkHtml;\n",
              "          element.appendChild(docLink);\n",
              "        }\n",
              "      </script>\n",
              "    </div>\n",
              "  </div>\n",
              "  "
            ],
            "text/plain": [
              "   id keyword location                                               text\n",
              "0   0     NaN      NaN                 Just happened a terrible car crash\n",
              "1   2     NaN      NaN  Heard about #earthquake is different cities, s...\n",
              "2   3     NaN      NaN  there is a forest fire at spot pond, geese are...\n",
              "3   9     NaN      NaN           Apocalypse lighting. #Spokane #wildfires\n",
              "4  11     NaN      NaN      Typhoon Soudelor kills 28 in China and Taiwan"
            ]
          },
          "metadata": {},
          "execution_count": 3
        }
      ]
    },
    {
      "cell_type": "markdown",
      "source": [
        "# Training Data exploratory"
      ],
      "metadata": {
        "id": "Nskcqk9QYYV1"
      }
    },
    {
      "cell_type": "markdown",
      "source": [
        "## basic"
      ],
      "metadata": {
        "id": "p9L5aCX2LD2J"
      }
    },
    {
      "cell_type": "code",
      "source": [
        "print(f'n_observations : {len(data)}')\n",
        "print(f\"natural disaster spotted : {data['target'].sum()}\")"
      ],
      "metadata": {
        "colab": {
          "base_uri": "https://localhost:8080/"
        },
        "id": "0H0K93UUINzc",
        "outputId": "ead63110-734f-47c8-b85c-8d54eae8fcbb"
      },
      "execution_count": 4,
      "outputs": [
        {
          "output_type": "stream",
          "name": "stdout",
          "text": [
            "n_observations : 7613\n",
            "natural disaster spotted : 3271\n"
          ]
        }
      ]
    },
    {
      "cell_type": "code",
      "source": [
        "# Check if the data is balanced between targets\n",
        "fig, ax = plt.subplots()\n",
        "fig.suptitle('target', fontsize=12)\n",
        "data['target'].reset_index().groupby('target').count().sort_values(by= \n",
        "       \"index\").plot(kind=\"barh\", legend=False, \n",
        "        ax=ax)\n",
        "plt.show()"
      ],
      "metadata": {
        "colab": {
          "base_uri": "https://localhost:8080/",
          "height": 0
        },
        "id": "2AAHLKwpQPw1",
        "outputId": "fb46cc5a-eace-4f08-a5ee-e64b99f51c9e"
      },
      "execution_count": 5,
      "outputs": [
        {
          "output_type": "display_data",
          "data": {
            "image/png": "[encoded data removed]",
            "text/plain": [
              "<Figure size 432x288 with 1 Axes>"
            ]
          },
          "metadata": {
            "needs_background": "light"
          }
        }
      ]
    },
    {
      "cell_type": "markdown",
      "source": [
        "## on 'location' column"
      ],
      "metadata": {
        "id": "x5BxKGmILJF1"
      }
    },
    {
      "cell_type": "code",
      "source": [
        "data['location'].value_counts()"
      ],
      "metadata": {
        "colab": {
          "base_uri": "https://localhost:8080/"
        },
        "id": "d9uyul6jHztl",
        "outputId": "d99946e3-b1bf-41b5-e81a-f17785c5c2ed"
      },
      "execution_count": 6,
      "outputs": [
        {
          "output_type": "execute_result",
          "data": {
            "text/plain": [
              "USA                      104\n",
              "New York                  71\n",
              "United States             50\n",
              "London                    45\n",
              "Canada                    29\n",
              "                        ... \n",
              "Depok                      1\n",
              "Hinterestland              1\n",
              "NY || live easy?           1\n",
              "VÌ_a LÌÁctea               1\n",
              "WestEnd, Puritan Ave       1\n",
              "Name: location, Length: 3341, dtype: int64"
            ]
          },
          "metadata": {},
          "execution_count": 6
        }
      ]
    },
    {
      "cell_type": "code",
      "source": [
        "data.groupby(data['location'])['target'].sum().sort_values(ascending=False)"
      ],
      "metadata": {
        "colab": {
          "base_uri": "https://localhost:8080/"
        },
        "id": "IPnv6ECgHQY7",
        "outputId": "e9403c4f-a128-4178-b0f4-a5e056681e0b"
      },
      "execution_count": 7,
      "outputs": [
        {
          "output_type": "execute_result",
          "data": {
            "text/plain": [
              "location\n",
              "USA                            67\n",
              "United States                  27\n",
              "Nigeria                        22\n",
              "India                          20\n",
              "Mumbai                         19\n",
              "                               ..\n",
              "Korea                           0\n",
              "University of Toronto           0\n",
              "University of South Florida     0\n",
              "Kuala Lumpur, Malaysia          0\n",
              "Mid West                        0\n",
              "Name: target, Length: 3341, dtype: int64"
            ]
          },
          "metadata": {},
          "execution_count": 7
        }
      ]
    },
    {
      "cell_type": "markdown",
      "source": [
        " ### 🌩  `Warning`\n",
        "it seems to have more than a half of the USA location that are targeted with one. It can introduce a biais. Therefore this column will be removed to avoid over prediction on USA-location to come"
      ],
      "metadata": {
        "id": "kFFvd5u0LNuk"
      }
    },
    {
      "cell_type": "markdown",
      "source": [
        "## on 'keyword' column"
      ],
      "metadata": {
        "id": "-7ZgozW2UBqF"
      }
    },
    {
      "cell_type": "code",
      "source": [
        "tp = data['keyword'].value_counts().sort_index()\n",
        "tp"
      ],
      "metadata": {
        "colab": {
          "base_uri": "https://localhost:8080/"
        },
        "id": "RTb2iOVFMTTW",
        "outputId": "0909447f-095c-4fa1-d39b-23fb45a1fd3d"
      },
      "execution_count": 8,
      "outputs": [
        {
          "output_type": "execute_result",
          "data": {
            "text/plain": [
              "ablaze                 36\n",
              "accident               35\n",
              "aftershock             34\n",
              "airplane%20accident    35\n",
              "ambulance              38\n",
              "                       ..\n",
              "wounded                37\n",
              "wounds                 33\n",
              "wreck                  37\n",
              "wreckage               39\n",
              "wrecked                39\n",
              "Name: keyword, Length: 221, dtype: int64"
            ]
          },
          "metadata": {},
          "execution_count": 8
        }
      ]
    },
    {
      "cell_type": "code",
      "source": [
        "temporary = data.groupby(data['keyword'])['target'].sum()\n",
        "temporary"
      ],
      "metadata": {
        "colab": {
          "base_uri": "https://localhost:8080/"
        },
        "id": "wLHc8FMQMJng",
        "outputId": "050edb43-7fde-4dbe-d188-512d8eb64dbf"
      },
      "execution_count": 9,
      "outputs": [
        {
          "output_type": "execute_result",
          "data": {
            "text/plain": [
              "keyword\n",
              "ablaze                 13\n",
              "accident               24\n",
              "aftershock              0\n",
              "airplane%20accident    30\n",
              "ambulance              20\n",
              "                       ..\n",
              "wounded                26\n",
              "wounds                 10\n",
              "wreck                   7\n",
              "wreckage               39\n",
              "wrecked                 3\n",
              "Name: target, Length: 221, dtype: int64"
            ]
          },
          "metadata": {},
          "execution_count": 9
        }
      ]
    },
    {
      "cell_type": "code",
      "source": [
        "# Check the number of keyword with 100% of targetting\n",
        "tpp = pd.concat((tp,temporary),axis=1)\n",
        "tpp['%'] = tpp['target']/tpp['keyword']\n",
        "tpp[tpp['%'] == 1]"
      ],
      "metadata": {
        "colab": {
          "base_uri": "https://localhost:8080/",
          "height": 0
        },
        "id": "-dXIX_LjNl0O",
        "outputId": "63a01a03-667f-448a-f145-3d6acbdfdcf0"
      },
      "execution_count": 10,
      "outputs": [
        {
          "output_type": "execute_result",
          "data": {
            "text/html": [
              "\n",
              "  <div id=\"df-e9f4da14-1af4-493f-ac3e-0409c2a1bcfc\">\n",
              "    <div class=\"colab-df-container\">\n",
              "      <div>\n",
              "<style scoped>\n",
              "    .dataframe tbody tr th:only-of-type {\n",
              "        vertical-align: middle;\n",
              "    }\n",
              "\n",
              "    .dataframe tbody tr th {\n",
              "        vertical-align: top;\n",
              "    }\n",
              "\n",
              "    .dataframe thead th {\n",
              "        text-align: right;\n",
              "    }\n",
              "</style>\n",
              "<table border=\"1\" class=\"dataframe\">\n",
              "  <thead>\n",
              "    <tr style=\"text-align: right;\">\n",
              "      <th></th>\n",
              "      <th>keyword</th>\n",
              "      <th>target</th>\n",
              "      <th>%</th>\n",
              "    </tr>\n",
              "    <tr>\n",
              "      <th>keyword</th>\n",
              "      <th></th>\n",
              "      <th></th>\n",
              "      <th></th>\n",
              "    </tr>\n",
              "  </thead>\n",
              "  <tbody>\n",
              "    <tr>\n",
              "      <th>debris</th>\n",
              "      <td>37</td>\n",
              "      <td>37</td>\n",
              "      <td>1.0</td>\n",
              "    </tr>\n",
              "    <tr>\n",
              "      <th>derailment</th>\n",
              "      <td>39</td>\n",
              "      <td>39</td>\n",
              "      <td>1.0</td>\n",
              "    </tr>\n",
              "    <tr>\n",
              "      <th>wreckage</th>\n",
              "      <td>39</td>\n",
              "      <td>39</td>\n",
              "      <td>1.0</td>\n",
              "    </tr>\n",
              "  </tbody>\n",
              "</table>\n",
              "</div>\n",
              "      <button class=\"colab-df-convert\" onclick=\"convertToInteractive('df-e9f4da14-1af4-493f-ac3e-0409c2a1bcfc')\"\n",
              "              title=\"Convert this dataframe to an interactive table.\"\n",
              "              style=\"display:none;\">\n",
              "        \n",
              "  <svg xmlns=\"http://www.w3.org/2000/svg\" height=\"24px\"viewBox=\"0 0 24 24\"\n",
              "       width=\"24px\">\n",
              "    <path d=\"M0 0h24v24H0V0z\" fill=\"none\"/>\n",
              "    <path d=\"M18.56 5.44l.94 2.06.94-2.06 2.06-.94-2.06-.94-.94-2.06-.94 2.06-2.06.94zm-11 1L8.5 8.5l.94-2.06 2.06-.94-2.06-.94L8.5 2.5l-.94 2.06-2.06.94zm10 10l.94 2.06.94-2.06 2.06-.94-2.06-.94-.94-2.06-.94 2.06-2.06.94z\"/><path d=\"M17.41 7.96l-1.37-1.37c-.4-.4-.92-.59-1.43-.59-.52 0-1.04.2-1.43.59L10.3 9.45l-7.72 7.72c-.78.78-.78 2.05 0 2.83L4 21.41c.39.39.9.59 1.41.59.51 0 1.02-.2 1.41-.59l7.78-7.78 2.81-2.81c.8-.78.8-2.07 0-2.86zM5.41 20L4 18.59l7.72-7.72 1.47 1.35L5.41 20z\"/>\n",
              "  </svg>\n",
              "      </button>\n",
              "      \n",
              "  <style>\n",
              "    .colab-df-container {\n",
              "      display:flex;\n",
              "      flex-wrap:wrap;\n",
              "      gap: 12px;\n",
              "    }\n",
              "\n",
              "    .colab-df-convert {\n",
              "      background-color: #E8F0FE;\n",
              "      border: none;\n",
              "      border-radius: 50%;\n",
              "      cursor: pointer;\n",
              "      display: none;\n",
              "      fill: #1967D2;\n",
              "      height: 32px;\n",
              "      padding: 0 0 0 0;\n",
              "      width: 32px;\n",
              "    }\n",
              "\n",
              "    .colab-df-convert:hover {\n",
              "      background-color: #E2EBFA;\n",
              "      box-shadow: 0px 1px 2px rgba(60, 64, 67, 0.3), 0px 1px 3px 1px rgba(60, 64, 67, 0.15);\n",
              "      fill: #174EA6;\n",
              "    }\n",
              "\n",
              "    [theme=dark] .colab-df-convert {\n",
              "      background-color: #3B4455;\n",
              "      fill: #D2E3FC;\n",
              "    }\n",
              "\n",
              "    [theme=dark] .colab-df-convert:hover {\n",
              "      background-color: #434B5C;\n",
              "      box-shadow: 0px 1px 3px 1px rgba(0, 0, 0, 0.15);\n",
              "      filter: drop-shadow(0px 1px 2px rgba(0, 0, 0, 0.3));\n",
              "      fill: #FFFFFF;\n",
              "    }\n",
              "  </style>\n",
              "\n",
              "      <script>\n",
              "        const buttonEl =\n",
              "          document.querySelector('#df-e9f4da14-1af4-493f-ac3e-0409c2a1bcfc button.colab-df-convert');\n",
              "        buttonEl.style.display =\n",
              "          google.colab.kernel.accessAllowed ? 'block' : 'none';\n",
              "\n",
              "        async function convertToInteractive(key) {\n",
              "          const element = document.querySelector('#df-e9f4da14-1af4-493f-ac3e-0409c2a1bcfc');\n",
              "          const dataTable =\n",
              "            await google.colab.kernel.invokeFunction('convertToInteractive',\n",
              "                                                     [key], {});\n",
              "          if (!dataTable) return;\n",
              "\n",
              "          const docLinkHtml = 'Like what you see? Visit the ' +\n",
              "            '<a target=\"_blank\" href=https://colab.research.google.com/notebooks/data_table.ipynb>data table notebook</a>'\n",
              "            + ' to learn more about interactive tables.';\n",
              "          element.innerHTML = '';\n",
              "          dataTable['output_type'] = 'display_data';\n",
              "          await google.colab.output.renderOutput(dataTable, element);\n",
              "          const docLink = document.createElement('div');\n",
              "          docLink.innerHTML = docLinkHtml;\n",
              "          element.appendChild(docLink);\n",
              "        }\n",
              "      </script>\n",
              "    </div>\n",
              "  </div>\n",
              "  "
            ],
            "text/plain": [
              "            keyword  target    %\n",
              "keyword                         \n",
              "debris           37      37  1.0\n",
              "derailment       39      39  1.0\n",
              "wreckage         39      39  1.0"
            ]
          },
          "metadata": {},
          "execution_count": 10
        }
      ]
    },
    {
      "cell_type": "code",
      "source": [
        "# Check the number of keyword with less than 30% of targetting\n",
        "len(tpp[tpp['%'] < 0.3])/len(tpp)"
      ],
      "metadata": {
        "colab": {
          "base_uri": "https://localhost:8080/"
        },
        "id": "KMPX6dN1SwGy",
        "outputId": "847719df-ffe1-4d84-b2c2-9cf698573db3"
      },
      "execution_count": 11,
      "outputs": [
        {
          "output_type": "execute_result",
          "data": {
            "text/plain": [
              "0.42081447963800905"
            ]
          },
          "metadata": {},
          "execution_count": 11
        }
      ]
    },
    {
      "cell_type": "markdown",
      "source": [
        " ### 🌨  Warning\n",
        " On the 221 unique keywords only 3 have are always targetted as a natural disaster. And more than 42% are target less than every 3 times. This is not enough for the keywords to be relevant for our model. Therefore this column will be removed"
      ],
      "metadata": {
        "id": "C2uxYUhxTPay"
      }
    },
    {
      "cell_type": "markdown",
      "source": [
        "# Preprocess data"
      ],
      "metadata": {
        "id": "UK2KFOg7ZWbZ"
      }
    },
    {
      "cell_type": "markdown",
      "source": [
        "## Clean text"
      ],
      "metadata": {
        "id": "I7M3jnojBBjo"
      }
    },
    {
      "cell_type": "code",
      "source": [
        "import string\n",
        "from nltk.corpus import stopwords\n",
        "\n",
        "def preprocess(text, lower_= True, punctuation=True, number=True, stopwords_=True, language='english'):\n",
        "\n",
        "  if lower_:\n",
        "    text = text.lower()\n",
        "  if punctuation:\n",
        "    text = (word for word in text if word not in string.punctuation)\n",
        "  if number:\n",
        "    text = ''.join(word for word in text if not word.isdigit())\n",
        "  if stopwords_:\n",
        "    text = text.split()\n",
        "    stop_words = set(stopwords.words(language))\n",
        "    text = ' '.join([word for word in text if word not in stop_words])\n",
        "\n",
        "  return text\n",
        "    "
      ],
      "metadata": {
        "id": "iNA6GNdG8IfJ"
      },
      "execution_count": 12,
      "outputs": []
    },
    {
      "cell_type": "code",
      "source": [
        "data['clean_text'] = data['text'].apply(preprocess)\n",
        "data.head(2)"
      ],
      "metadata": {
        "colab": {
          "base_uri": "https://localhost:8080/",
          "height": 0
        },
        "id": "FoRAW-lJ_SKs",
        "outputId": "1b601603-ac64-472c-fefa-8ef5f73975a5"
      },
      "execution_count": 13,
      "outputs": [
        {
          "output_type": "execute_result",
          "data": {
            "text/html": [
              "\n",
              "  <div id=\"df-4f2e1baa-4db3-4223-95d9-d089ba5c20fe\">\n",
              "    <div class=\"colab-df-container\">\n",
              "      <div>\n",
              "<style scoped>\n",
              "    .dataframe tbody tr th:only-of-type {\n",
              "        vertical-align: middle;\n",
              "    }\n",
              "\n",
              "    .dataframe tbody tr th {\n",
              "        vertical-align: top;\n",
              "    }\n",
              "\n",
              "    .dataframe thead th {\n",
              "        text-align: right;\n",
              "    }\n",
              "</style>\n",
              "<table border=\"1\" class=\"dataframe\">\n",
              "  <thead>\n",
              "    <tr style=\"text-align: right;\">\n",
              "      <th></th>\n",
              "      <th>id</th>\n",
              "      <th>keyword</th>\n",
              "      <th>location</th>\n",
              "      <th>text</th>\n",
              "      <th>target</th>\n",
              "      <th>clean_text</th>\n",
              "    </tr>\n",
              "  </thead>\n",
              "  <tbody>\n",
              "    <tr>\n",
              "      <th>0</th>\n",
              "      <td>1</td>\n",
              "      <td>NaN</td>\n",
              "      <td>NaN</td>\n",
              "      <td>Our Deeds are the Reason of this #earthquake M...</td>\n",
              "      <td>1</td>\n",
              "      <td>deeds reason earthquake may allah forgive us</td>\n",
              "    </tr>\n",
              "    <tr>\n",
              "      <th>1</th>\n",
              "      <td>4</td>\n",
              "      <td>NaN</td>\n",
              "      <td>NaN</td>\n",
              "      <td>Forest fire near La Ronge Sask. Canada</td>\n",
              "      <td>1</td>\n",
              "      <td>forest fire near la ronge sask canada</td>\n",
              "    </tr>\n",
              "  </tbody>\n",
              "</table>\n",
              "</div>\n",
              "      <button class=\"colab-df-convert\" onclick=\"convertToInteractive('df-4f2e1baa-4db3-4223-95d9-d089ba5c20fe')\"\n",
              "              title=\"Convert this dataframe to an interactive table.\"\n",
              "              style=\"display:none;\">\n",
              "        \n",
              "  <svg xmlns=\"http://www.w3.org/2000/svg\" height=\"24px\"viewBox=\"0 0 24 24\"\n",
              "       width=\"24px\">\n",
              "    <path d=\"M0 0h24v24H0V0z\" fill=\"none\"/>\n",
              "    <path d=\"M18.56 5.44l.94 2.06.94-2.06 2.06-.94-2.06-.94-.94-2.06-.94 2.06-2.06.94zm-11 1L8.5 8.5l.94-2.06 2.06-.94-2.06-.94L8.5 2.5l-.94 2.06-2.06.94zm10 10l.94 2.06.94-2.06 2.06-.94-2.06-.94-.94-2.06-.94 2.06-2.06.94z\"/><path d=\"M17.41 7.96l-1.37-1.37c-.4-.4-.92-.59-1.43-.59-.52 0-1.04.2-1.43.59L10.3 9.45l-7.72 7.72c-.78.78-.78 2.05 0 2.83L4 21.41c.39.39.9.59 1.41.59.51 0 1.02-.2 1.41-.59l7.78-7.78 2.81-2.81c.8-.78.8-2.07 0-2.86zM5.41 20L4 18.59l7.72-7.72 1.47 1.35L5.41 20z\"/>\n",
              "  </svg>\n",
              "      </button>\n",
              "      \n",
              "  <style>\n",
              "    .colab-df-container {\n",
              "      display:flex;\n",
              "      flex-wrap:wrap;\n",
              "      gap: 12px;\n",
              "    }\n",
              "\n",
              "    .colab-df-convert {\n",
              "      background-color: #E8F0FE;\n",
              "      border: none;\n",
              "      border-radius: 50%;\n",
              "      cursor: pointer;\n",
              "      display: none;\n",
              "      fill: #1967D2;\n",
              "      height: 32px;\n",
              "      padding: 0 0 0 0;\n",
              "      width: 32px;\n",
              "    }\n",
              "\n",
              "    .colab-df-convert:hover {\n",
              "      background-color: #E2EBFA;\n",
              "      box-shadow: 0px 1px 2px rgba(60, 64, 67, 0.3), 0px 1px 3px 1px rgba(60, 64, 67, 0.15);\n",
              "      fill: #174EA6;\n",
              "    }\n",
              "\n",
              "    [theme=dark] .colab-df-convert {\n",
              "      background-color: #3B4455;\n",
              "      fill: #D2E3FC;\n",
              "    }\n",
              "\n",
              "    [theme=dark] .colab-df-convert:hover {\n",
              "      background-color: #434B5C;\n",
              "      box-shadow: 0px 1px 3px 1px rgba(0, 0, 0, 0.15);\n",
              "      filter: drop-shadow(0px 1px 2px rgba(0, 0, 0, 0.3));\n",
              "      fill: #FFFFFF;\n",
              "    }\n",
              "  </style>\n",
              "\n",
              "      <script>\n",
              "        const buttonEl =\n",
              "          document.querySelector('#df-4f2e1baa-4db3-4223-95d9-d089ba5c20fe button.colab-df-convert');\n",
              "        buttonEl.style.display =\n",
              "          google.colab.kernel.accessAllowed ? 'block' : 'none';\n",
              "\n",
              "        async function convertToInteractive(key) {\n",
              "          const element = document.querySelector('#df-4f2e1baa-4db3-4223-95d9-d089ba5c20fe');\n",
              "          const dataTable =\n",
              "            await google.colab.kernel.invokeFunction('convertToInteractive',\n",
              "                                                     [key], {});\n",
              "          if (!dataTable) return;\n",
              "\n",
              "          const docLinkHtml = 'Like what you see? Visit the ' +\n",
              "            '<a target=\"_blank\" href=https://colab.research.google.com/notebooks/data_table.ipynb>data table notebook</a>'\n",
              "            + ' to learn more about interactive tables.';\n",
              "          element.innerHTML = '';\n",
              "          dataTable['output_type'] = 'display_data';\n",
              "          await google.colab.output.renderOutput(dataTable, element);\n",
              "          const docLink = document.createElement('div');\n",
              "          docLink.innerHTML = docLinkHtml;\n",
              "          element.appendChild(docLink);\n",
              "        }\n",
              "      </script>\n",
              "    </div>\n",
              "  </div>\n",
              "  "
            ],
            "text/plain": [
              "   id keyword  ... target                                    clean_text\n",
              "0   1     NaN  ...      1  deeds reason earthquake may allah forgive us\n",
              "1   4     NaN  ...      1         forest fire near la ronge sask canada\n",
              "\n",
              "[2 rows x 6 columns]"
            ]
          },
          "metadata": {},
          "execution_count": 13
        }
      ]
    },
    {
      "cell_type": "markdown",
      "source": [
        "## Lemmatize text"
      ],
      "metadata": {
        "id": "yjn0BfW9A0ys"
      }
    },
    {
      "cell_type": "code",
      "source": [
        "from nltk.stem import WordNetLemmatizer"
      ],
      "metadata": {
        "id": "0f3BcskqA5he"
      },
      "execution_count": 14,
      "outputs": []
    },
    {
      "cell_type": "code",
      "source": [
        "def lemmatizerer(text):\n",
        "  lemmatizer = WordNetLemmatizer()\n",
        "  text = text.split()\n",
        "  lemmatized = [lemmatizer.lemmatize(word) for word in text]\n",
        "  text = ' '.join(lemmatized)\n",
        "  return text"
      ],
      "metadata": {
        "id": "S2A90dp_BSqY"
      },
      "execution_count": 15,
      "outputs": []
    },
    {
      "cell_type": "code",
      "source": [
        "data['lem_text'] = data['clean_text'].apply(lemmatizerer)\n",
        "data.tail()"
      ],
      "metadata": {
        "colab": {
          "base_uri": "https://localhost:8080/",
          "height": 0
        },
        "id": "vs0bB-_qDHvz",
        "outputId": "45bd806f-f9f3-4ccc-8ff4-d1c3a83d4aa5"
      },
      "execution_count": 16,
      "outputs": [
        {
          "output_type": "execute_result",
          "data": {
            "text/html": [
              "\n",
              "  <div id=\"df-b34e7e32-7ade-474e-8e04-f8682342e9ba\">\n",
              "    <div class=\"colab-df-container\">\n",
              "      <div>\n",
              "<style scoped>\n",
              "    .dataframe tbody tr th:only-of-type {\n",
              "        vertical-align: middle;\n",
              "    }\n",
              "\n",
              "    .dataframe tbody tr th {\n",
              "        vertical-align: top;\n",
              "    }\n",
              "\n",
              "    .dataframe thead th {\n",
              "        text-align: right;\n",
              "    }\n",
              "</style>\n",
              "<table border=\"1\" class=\"dataframe\">\n",
              "  <thead>\n",
              "    <tr style=\"text-align: right;\">\n",
              "      <th></th>\n",
              "      <th>id</th>\n",
              "      <th>keyword</th>\n",
              "      <th>location</th>\n",
              "      <th>text</th>\n",
              "      <th>target</th>\n",
              "      <th>clean_text</th>\n",
              "      <th>lem_text</th>\n",
              "    </tr>\n",
              "  </thead>\n",
              "  <tbody>\n",
              "    <tr>\n",
              "      <th>7608</th>\n",
              "      <td>10869</td>\n",
              "      <td>NaN</td>\n",
              "      <td>NaN</td>\n",
              "      <td>Two giant cranes holding a bridge collapse int...</td>\n",
              "      <td>1</td>\n",
              "      <td>two giant cranes holding bridge collapse nearb...</td>\n",
              "      <td>two giant crane holding bridge collapse nearby...</td>\n",
              "    </tr>\n",
              "    <tr>\n",
              "      <th>7609</th>\n",
              "      <td>10870</td>\n",
              "      <td>NaN</td>\n",
              "      <td>NaN</td>\n",
              "      <td>@aria_ahrary @TheTawniest The out of control w...</td>\n",
              "      <td>1</td>\n",
              "      <td>ariaahrary thetawniest control wild fires cali...</td>\n",
              "      <td>ariaahrary thetawniest control wild fire calif...</td>\n",
              "    </tr>\n",
              "    <tr>\n",
              "      <th>7610</th>\n",
              "      <td>10871</td>\n",
              "      <td>NaN</td>\n",
              "      <td>NaN</td>\n",
              "      <td>M1.94 [01:04 UTC]?5km S of Volcano Hawaii. htt...</td>\n",
              "      <td>1</td>\n",
              "      <td>utckm volcano hawaii httptcozdtoydebj</td>\n",
              "      <td>utckm volcano hawaii httptcozdtoydebj</td>\n",
              "    </tr>\n",
              "    <tr>\n",
              "      <th>7611</th>\n",
              "      <td>10872</td>\n",
              "      <td>NaN</td>\n",
              "      <td>NaN</td>\n",
              "      <td>Police investigating after an e-bike collided ...</td>\n",
              "      <td>1</td>\n",
              "      <td>police investigating ebike collided car little...</td>\n",
              "      <td>police investigating ebike collided car little...</td>\n",
              "    </tr>\n",
              "    <tr>\n",
              "      <th>7612</th>\n",
              "      <td>10873</td>\n",
              "      <td>NaN</td>\n",
              "      <td>NaN</td>\n",
              "      <td>The Latest: More Homes Razed by Northern Calif...</td>\n",
              "      <td>1</td>\n",
              "      <td>latest homes razed northern california wildfir...</td>\n",
              "      <td>latest home razed northern california wildfire...</td>\n",
              "    </tr>\n",
              "  </tbody>\n",
              "</table>\n",
              "</div>\n",
              "      <button class=\"colab-df-convert\" onclick=\"convertToInteractive('df-b34e7e32-7ade-474e-8e04-f8682342e9ba')\"\n",
              "              title=\"Convert this dataframe to an interactive table.\"\n",
              "              style=\"display:none;\">\n",
              "        \n",
              "  <svg xmlns=\"http://www.w3.org/2000/svg\" height=\"24px\"viewBox=\"0 0 24 24\"\n",
              "       width=\"24px\">\n",
              "    <path d=\"M0 0h24v24H0V0z\" fill=\"none\"/>\n",
              "    <path d=\"M18.56 5.44l.94 2.06.94-2.06 2.06-.94-2.06-.94-.94-2.06-.94 2.06-2.06.94zm-11 1L8.5 8.5l.94-2.06 2.06-.94-2.06-.94L8.5 2.5l-.94 2.06-2.06.94zm10 10l.94 2.06.94-2.06 2.06-.94-2.06-.94-.94-2.06-.94 2.06-2.06.94z\"/><path d=\"M17.41 7.96l-1.37-1.37c-.4-.4-.92-.59-1.43-.59-.52 0-1.04.2-1.43.59L10.3 9.45l-7.72 7.72c-.78.78-.78 2.05 0 2.83L4 21.41c.39.39.9.59 1.41.59.51 0 1.02-.2 1.41-.59l7.78-7.78 2.81-2.81c.8-.78.8-2.07 0-2.86zM5.41 20L4 18.59l7.72-7.72 1.47 1.35L5.41 20z\"/>\n",
              "  </svg>\n",
              "      </button>\n",
              "      \n",
              "  <style>\n",
              "    .colab-df-container {\n",
              "      display:flex;\n",
              "      flex-wrap:wrap;\n",
              "      gap: 12px;\n",
              "    }\n",
              "\n",
              "    .colab-df-convert {\n",
              "      background-color: #E8F0FE;\n",
              "      border: none;\n",
              "      border-radius: 50%;\n",
              "      cursor: pointer;\n",
              "      display: none;\n",
              "      fill: #1967D2;\n",
              "      height: 32px;\n",
              "      padding: 0 0 0 0;\n",
              "      width: 32px;\n",
              "    }\n",
              "\n",
              "    .colab-df-convert:hover {\n",
              "      background-color: #E2EBFA;\n",
              "      box-shadow: 0px 1px 2px rgba(60, 64, 67, 0.3), 0px 1px 3px 1px rgba(60, 64, 67, 0.15);\n",
              "      fill: #174EA6;\n",
              "    }\n",
              "\n",
              "    [theme=dark] .colab-df-convert {\n",
              "      background-color: #3B4455;\n",
              "      fill: #D2E3FC;\n",
              "    }\n",
              "\n",
              "    [theme=dark] .colab-df-convert:hover {\n",
              "      background-color: #434B5C;\n",
              "      box-shadow: 0px 1px 3px 1px rgba(0, 0, 0, 0.15);\n",
              "      filter: drop-shadow(0px 1px 2px rgba(0, 0, 0, 0.3));\n",
              "      fill: #FFFFFF;\n",
              "    }\n",
              "  </style>\n",
              "\n",
              "      <script>\n",
              "        const buttonEl =\n",
              "          document.querySelector('#df-b34e7e32-7ade-474e-8e04-f8682342e9ba button.colab-df-convert');\n",
              "        buttonEl.style.display =\n",
              "          google.colab.kernel.accessAllowed ? 'block' : 'none';\n",
              "\n",
              "        async function convertToInteractive(key) {\n",
              "          const element = document.querySelector('#df-b34e7e32-7ade-474e-8e04-f8682342e9ba');\n",
              "          const dataTable =\n",
              "            await google.colab.kernel.invokeFunction('convertToInteractive',\n",
              "                                                     [key], {});\n",
              "          if (!dataTable) return;\n",
              "\n",
              "          const docLinkHtml = 'Like what you see? Visit the ' +\n",
              "            '<a target=\"_blank\" href=https://colab.research.google.com/notebooks/data_table.ipynb>data table notebook</a>'\n",
              "            + ' to learn more about interactive tables.';\n",
              "          element.innerHTML = '';\n",
              "          dataTable['output_type'] = 'display_data';\n",
              "          await google.colab.output.renderOutput(dataTable, element);\n",
              "          const docLink = document.createElement('div');\n",
              "          docLink.innerHTML = docLinkHtml;\n",
              "          element.appendChild(docLink);\n",
              "        }\n",
              "      </script>\n",
              "    </div>\n",
              "  </div>\n",
              "  "
            ],
            "text/plain": [
              "         id  ...                                           lem_text\n",
              "7608  10869  ...  two giant crane holding bridge collapse nearby...\n",
              "7609  10870  ...  ariaahrary thetawniest control wild fire calif...\n",
              "7610  10871  ...              utckm volcano hawaii httptcozdtoydebj\n",
              "7611  10872  ...  police investigating ebike collided car little...\n",
              "7612  10873  ...  latest home razed northern california wildfire...\n",
              "\n",
              "[5 rows x 7 columns]"
            ]
          },
          "metadata": {},
          "execution_count": 16
        }
      ]
    },
    {
      "cell_type": "markdown",
      "source": [
        "# Add and test features"
      ],
      "metadata": {
        "id": "2DVOX5j3ZnNz"
      }
    },
    {
      "cell_type": "markdown",
      "source": [
        "## Add features"
      ],
      "metadata": {
        "id": "tKl9ZZQSYmJJ"
      }
    },
    {
      "cell_type": "code",
      "source": [
        "# list possibles natural disaster\n",
        "natural_disaster = ['Avalanche','landslide','Earthquake', 'Sinkhole', 'Volcanic eruption','eruption', 'Duststorm','Flood',\n",
        "\t'Tsunami','Limnic eruptions','Tropical cyclone','Blizzard','Hailstorm','Ice storm', 'icestorm','Cold wave', 'coldwave','Heat wave', 'heatwave','Drought',\n",
        "\t'Thunderstorm','Tornadoe','Fire-storms','fire storm','disaster','forest fire','wildfire','wild fire','typhoon']\n",
        "natural_disaster = [word.lower() for word in natural_disaster]\n",
        "\n",
        "#create function to count words specific to the precedent list in a sentence\n",
        "def count_disaster(text):\n",
        "  count = 0\n",
        "  text = text.split()\n",
        "  for word in text:\n",
        "    if word in natural_disaster:\n",
        "      count += 1\n",
        "  return count\n",
        "\n",
        "# add a new feature in the dataframe with the number of words'disaster\n",
        "data['disaster_word'] = data['lem_text'].apply(lambda x : count_disaster(x))"
      ],
      "metadata": {
        "id": "BnHeUJX_Jo6T"
      },
      "execution_count": 17,
      "outputs": []
    },
    {
      "cell_type": "code",
      "source": [
        "# add features related to word count\n",
        "\n",
        "data['word_count'] = data[\"text\"].apply(lambda x: len(str(x).split(\" \")))\n",
        "data['char_count'] = data[\"text\"].apply(lambda x: sum(len(word) for word in str(x).split(\" \")))\n",
        "data['sentence_count'] = data[\"text\"].apply(lambda x: len(str(x).split(\".\")))\n",
        "data['avg_word_length'] = data['char_count'] / data['word_count']\n",
        "data['avg_sentence_lenght'] = data['word_count'] / data['sentence_count']"
      ],
      "metadata": {
        "id": "1JBMSfVvTJbk"
      },
      "execution_count": 18,
      "outputs": []
    },
    {
      "cell_type": "code",
      "source": [
        "data.groupby('target')['char_count'].mean()"
      ],
      "metadata": {
        "colab": {
          "base_uri": "https://localhost:8080/"
        },
        "id": "fHJbgGCdW8rO",
        "outputId": "c0cdce63-1926-4001-9d29-fea0d1198d7f"
      },
      "execution_count": 19,
      "outputs": [
        {
          "output_type": "execute_result",
          "data": {
            "text/plain": [
              "target\n",
              "0    82.108245\n",
              "1    94.035157\n",
              "Name: char_count, dtype: float64"
            ]
          },
          "metadata": {},
          "execution_count": 19
        }
      ]
    },
    {
      "cell_type": "code",
      "source": [
        "data.groupby('target')['sentence_count'].mean()"
      ],
      "metadata": {
        "colab": {
          "base_uri": "https://localhost:8080/"
        },
        "id": "gaaz9K5RXR6J",
        "outputId": "52d514e5-c3e6-4c52-9d44-fbba5282522e"
      },
      "execution_count": 20,
      "outputs": [
        {
          "output_type": "execute_result",
          "data": {
            "text/plain": [
              "target\n",
              "0    2.324735\n",
              "1    2.817181\n",
              "Name: sentence_count, dtype: float64"
            ]
          },
          "metadata": {},
          "execution_count": 20
        }
      ]
    },
    {
      "cell_type": "code",
      "source": [
        "data.groupby('target')['avg_word_length'].mean()"
      ],
      "metadata": {
        "colab": {
          "base_uri": "https://localhost:8080/"
        },
        "id": "qqUO2khFXWS_",
        "outputId": "311c0c60-1889-4168-cdaf-df59d28588c5"
      },
      "execution_count": 21,
      "outputs": [
        {
          "output_type": "execute_result",
          "data": {
            "text/plain": [
              "target\n",
              "0    5.919227\n",
              "1    6.542772\n",
              "Name: avg_word_length, dtype: float64"
            ]
          },
          "metadata": {},
          "execution_count": 21
        }
      ]
    },
    {
      "cell_type": "code",
      "source": [
        "data.groupby('target')['avg_sentence_lenght'].mean()"
      ],
      "metadata": {
        "colab": {
          "base_uri": "https://localhost:8080/"
        },
        "id": "KuHc4o6jXbvm",
        "outputId": "db81800f-10ba-42b1-ad5d-85b2dbb185f0"
      },
      "execution_count": 22,
      "outputs": [
        {
          "output_type": "execute_result",
          "data": {
            "text/plain": [
              "target\n",
              "0    8.233471\n",
              "1    6.966003\n",
              "Name: avg_sentence_lenght, dtype: float64"
            ]
          },
          "metadata": {},
          "execution_count": 22
        }
      ]
    },
    {
      "cell_type": "code",
      "source": [
        "! pip install -U spacy\n",
        "! python -m spacy download en_core_web_lg\n",
        "\n",
        "import spacy\n",
        "\n",
        "## call model\n",
        "ner = spacy.load('en_core_web_lg')\n"
      ],
      "metadata": {
        "colab": {
          "base_uri": "https://localhost:8080/"
        },
        "id": "xYuyxBzmmNZp",
        "outputId": "2bfd9c25-3f74-4b95-8250-a0f29b458796"
      },
      "execution_count": 23,
      "outputs": [
        {
          "output_type": "stream",
          "name": "stdout",
          "text": [
            "Requirement already satisfied: spacy in /usr/local/lib/python3.7/dist-packages (3.2.1)\n",
            "Requirement already satisfied: cymem<2.1.0,>=2.0.2 in /usr/local/lib/python3.7/dist-packages (from spacy) (2.0.6)\n",
            "Requirement already satisfied: catalogue<2.1.0,>=2.0.6 in /usr/local/lib/python3.7/dist-packages (from spacy) (2.0.6)\n",
            "Requirement already satisfied: typing-extensions<4.0.0.0,>=3.7.4 in /usr/local/lib/python3.7/dist-packages (from spacy) (3.10.0.2)\n",
            "Requirement already satisfied: requests<3.0.0,>=2.13.0 in /usr/local/lib/python3.7/dist-packages (from spacy) (2.23.0)\n",
            "Requirement already satisfied: tqdm<5.0.0,>=4.38.0 in /usr/local/lib/python3.7/dist-packages (from spacy) (4.62.3)\n",
            "Requirement already satisfied: srsly<3.0.0,>=2.4.1 in /usr/local/lib/python3.7/dist-packages (from spacy) (2.4.2)\n",
            "Requirement already satisfied: thinc<8.1.0,>=8.0.12 in /usr/local/lib/python3.7/dist-packages (from spacy) (8.0.13)\n",
            "Requirement already satisfied: preshed<3.1.0,>=3.0.2 in /usr/local/lib/python3.7/dist-packages (from spacy) (3.0.6)\n",
            "Requirement already satisfied: spacy-legacy<3.1.0,>=3.0.8 in /usr/local/lib/python3.7/dist-packages (from spacy) (3.0.8)\n",
            "Requirement already satisfied: numpy>=1.15.0 in /usr/local/lib/python3.7/dist-packages (from spacy) (1.19.5)\n",
            "Requirement already satisfied: typer<0.5.0,>=0.3.0 in /usr/local/lib/python3.7/dist-packages (from spacy) (0.4.0)\n",
            "Requirement already satisfied: wasabi<1.1.0,>=0.8.1 in /usr/local/lib/python3.7/dist-packages (from spacy) (0.8.2)\n",
            "Requirement already satisfied: blis<0.8.0,>=0.4.0 in /usr/local/lib/python3.7/dist-packages (from spacy) (0.4.1)\n",
            "Requirement already satisfied: spacy-loggers<2.0.0,>=1.0.0 in /usr/local/lib/python3.7/dist-packages (from spacy) (1.0.1)\n",
            "Requirement already satisfied: pydantic!=1.8,!=1.8.1,<1.9.0,>=1.7.4 in /usr/local/lib/python3.7/dist-packages (from spacy) (1.8.2)\n",
            "Requirement already satisfied: murmurhash<1.1.0,>=0.28.0 in /usr/local/lib/python3.7/dist-packages (from spacy) (1.0.6)\n",
            "Requirement already satisfied: jinja2 in /usr/local/lib/python3.7/dist-packages (from spacy) (2.11.3)\n",
            "Requirement already satisfied: pathy>=0.3.5 in /usr/local/lib/python3.7/dist-packages (from spacy) (0.6.1)\n",
            "Requirement already satisfied: langcodes<4.0.0,>=3.2.0 in /usr/local/lib/python3.7/dist-packages (from spacy) (3.3.0)\n",
            "Requirement already satisfied: packaging>=20.0 in /usr/local/lib/python3.7/dist-packages (from spacy) (21.3)\n",
            "Requirement already satisfied: setuptools in /usr/local/lib/python3.7/dist-packages (from spacy) (57.4.0)\n",
            "Requirement already satisfied: zipp>=0.5 in /usr/local/lib/python3.7/dist-packages (from catalogue<2.1.0,>=2.0.6->spacy) (3.6.0)\n",
            "Requirement already satisfied: pyparsing!=3.0.5,>=2.0.2 in /usr/local/lib/python3.7/dist-packages (from packaging>=20.0->spacy) (3.0.6)\n",
            "Requirement already satisfied: smart-open<6.0.0,>=5.0.0 in /usr/local/lib/python3.7/dist-packages (from pathy>=0.3.5->spacy) (5.2.1)\n",
            "Requirement already satisfied: urllib3!=1.25.0,!=1.25.1,<1.26,>=1.21.1 in /usr/local/lib/python3.7/dist-packages (from requests<3.0.0,>=2.13.0->spacy) (1.24.3)\n",
            "Requirement already satisfied: idna<3,>=2.5 in /usr/local/lib/python3.7/dist-packages (from requests<3.0.0,>=2.13.0->spacy) (2.10)\n",
            "Requirement already satisfied: chardet<4,>=3.0.2 in /usr/local/lib/python3.7/dist-packages (from requests<3.0.0,>=2.13.0->spacy) (3.0.4)\n",
            "Requirement already satisfied: certifi>=2017.4.17 in /usr/local/lib/python3.7/dist-packages (from requests<3.0.0,>=2.13.0->spacy) (2021.10.8)\n",
            "Requirement already satisfied: click<9.0.0,>=7.1.1 in /usr/local/lib/python3.7/dist-packages (from typer<0.5.0,>=0.3.0->spacy) (7.1.2)\n",
            "Requirement already satisfied: MarkupSafe>=0.23 in /usr/local/lib/python3.7/dist-packages (from jinja2->spacy) (2.0.1)\n",
            "Collecting en-core-web-lg==3.2.0\n",
            "  Downloading https://github.com/explosion/spacy-models/releases/download/en_core_web_lg-3.2.0/en_core_web_lg-3.2.0-py3-none-any.whl (777.4 MB)\n",
            "\u001b[K     |████████████████████████████████| 777.4 MB 4.9 kB/s \n",
            "\u001b[?25hRequirement already satisfied: spacy<3.3.0,>=3.2.0 in /usr/local/lib/python3.7/dist-packages (from en-core-web-lg==3.2.0) (3.2.1)\n",
            "Requirement already satisfied: langcodes<4.0.0,>=3.2.0 in /usr/local/lib/python3.7/dist-packages (from spacy<3.3.0,>=3.2.0->en-core-web-lg==3.2.0) (3.3.0)\n",
            "Requirement already satisfied: setuptools in /usr/local/lib/python3.7/dist-packages (from spacy<3.3.0,>=3.2.0->en-core-web-lg==3.2.0) (57.4.0)\n",
            "Requirement already satisfied: typer<0.5.0,>=0.3.0 in /usr/local/lib/python3.7/dist-packages (from spacy<3.3.0,>=3.2.0->en-core-web-lg==3.2.0) (0.4.0)\n",
            "Requirement already satisfied: srsly<3.0.0,>=2.4.1 in /usr/local/lib/python3.7/dist-packages (from spacy<3.3.0,>=3.2.0->en-core-web-lg==3.2.0) (2.4.2)\n",
            "Requirement already satisfied: preshed<3.1.0,>=3.0.2 in /usr/local/lib/python3.7/dist-packages (from spacy<3.3.0,>=3.2.0->en-core-web-lg==3.2.0) (3.0.6)\n",
            "Requirement already satisfied: pathy>=0.3.5 in /usr/local/lib/python3.7/dist-packages (from spacy<3.3.0,>=3.2.0->en-core-web-lg==3.2.0) (0.6.1)\n",
            "Requirement already satisfied: blis<0.8.0,>=0.4.0 in /usr/local/lib/python3.7/dist-packages (from spacy<3.3.0,>=3.2.0->en-core-web-lg==3.2.0) (0.4.1)\n",
            "Requirement already satisfied: packaging>=20.0 in /usr/local/lib/python3.7/dist-packages (from spacy<3.3.0,>=3.2.0->en-core-web-lg==3.2.0) (21.3)\n",
            "Requirement already satisfied: jinja2 in /usr/local/lib/python3.7/dist-packages (from spacy<3.3.0,>=3.2.0->en-core-web-lg==3.2.0) (2.11.3)\n",
            "Requirement already satisfied: cymem<2.1.0,>=2.0.2 in /usr/local/lib/python3.7/dist-packages (from spacy<3.3.0,>=3.2.0->en-core-web-lg==3.2.0) (2.0.6)\n",
            "Requirement already satisfied: thinc<8.1.0,>=8.0.12 in /usr/local/lib/python3.7/dist-packages (from spacy<3.3.0,>=3.2.0->en-core-web-lg==3.2.0) (8.0.13)\n",
            "Requirement already satisfied: typing-extensions<4.0.0.0,>=3.7.4 in /usr/local/lib/python3.7/dist-packages (from spacy<3.3.0,>=3.2.0->en-core-web-lg==3.2.0) (3.10.0.2)\n",
            "Requirement already satisfied: requests<3.0.0,>=2.13.0 in /usr/local/lib/python3.7/dist-packages (from spacy<3.3.0,>=3.2.0->en-core-web-lg==3.2.0) (2.23.0)\n",
            "Requirement already satisfied: numpy>=1.15.0 in /usr/local/lib/python3.7/dist-packages (from spacy<3.3.0,>=3.2.0->en-core-web-lg==3.2.0) (1.19.5)\n",
            "Requirement already satisfied: wasabi<1.1.0,>=0.8.1 in /usr/local/lib/python3.7/dist-packages (from spacy<3.3.0,>=3.2.0->en-core-web-lg==3.2.0) (0.8.2)\n",
            "Requirement already satisfied: murmurhash<1.1.0,>=0.28.0 in /usr/local/lib/python3.7/dist-packages (from spacy<3.3.0,>=3.2.0->en-core-web-lg==3.2.0) (1.0.6)\n",
            "Requirement already satisfied: spacy-legacy<3.1.0,>=3.0.8 in /usr/local/lib/python3.7/dist-packages (from spacy<3.3.0,>=3.2.0->en-core-web-lg==3.2.0) (3.0.8)\n",
            "Requirement already satisfied: pydantic!=1.8,!=1.8.1,<1.9.0,>=1.7.4 in /usr/local/lib/python3.7/dist-packages (from spacy<3.3.0,>=3.2.0->en-core-web-lg==3.2.0) (1.8.2)\n",
            "Requirement already satisfied: tqdm<5.0.0,>=4.38.0 in /usr/local/lib/python3.7/dist-packages (from spacy<3.3.0,>=3.2.0->en-core-web-lg==3.2.0) (4.62.3)\n",
            "Requirement already satisfied: catalogue<2.1.0,>=2.0.6 in /usr/local/lib/python3.7/dist-packages (from spacy<3.3.0,>=3.2.0->en-core-web-lg==3.2.0) (2.0.6)\n",
            "Requirement already satisfied: spacy-loggers<2.0.0,>=1.0.0 in /usr/local/lib/python3.7/dist-packages (from spacy<3.3.0,>=3.2.0->en-core-web-lg==3.2.0) (1.0.1)\n",
            "Requirement already satisfied: zipp>=0.5 in /usr/local/lib/python3.7/dist-packages (from catalogue<2.1.0,>=2.0.6->spacy<3.3.0,>=3.2.0->en-core-web-lg==3.2.0) (3.6.0)\n",
            "Requirement already satisfied: pyparsing!=3.0.5,>=2.0.2 in /usr/local/lib/python3.7/dist-packages (from packaging>=20.0->spacy<3.3.0,>=3.2.0->en-core-web-lg==3.2.0) (3.0.6)\n",
            "Requirement already satisfied: smart-open<6.0.0,>=5.0.0 in /usr/local/lib/python3.7/dist-packages (from pathy>=0.3.5->spacy<3.3.0,>=3.2.0->en-core-web-lg==3.2.0) (5.2.1)\n",
            "Requirement already satisfied: idna<3,>=2.5 in /usr/local/lib/python3.7/dist-packages (from requests<3.0.0,>=2.13.0->spacy<3.3.0,>=3.2.0->en-core-web-lg==3.2.0) (2.10)\n",
            "Requirement already satisfied: urllib3!=1.25.0,!=1.25.1,<1.26,>=1.21.1 in /usr/local/lib/python3.7/dist-packages (from requests<3.0.0,>=2.13.0->spacy<3.3.0,>=3.2.0->en-core-web-lg==3.2.0) (1.24.3)\n",
            "Requirement already satisfied: chardet<4,>=3.0.2 in /usr/local/lib/python3.7/dist-packages (from requests<3.0.0,>=2.13.0->spacy<3.3.0,>=3.2.0->en-core-web-lg==3.2.0) (3.0.4)\n",
            "Requirement already satisfied: certifi>=2017.4.17 in /usr/local/lib/python3.7/dist-packages (from requests<3.0.0,>=2.13.0->spacy<3.3.0,>=3.2.0->en-core-web-lg==3.2.0) (2021.10.8)\n",
            "Requirement already satisfied: click<9.0.0,>=7.1.1 in /usr/local/lib/python3.7/dist-packages (from typer<0.5.0,>=0.3.0->spacy<3.3.0,>=3.2.0->en-core-web-lg==3.2.0) (7.1.2)\n",
            "Requirement already satisfied: MarkupSafe>=0.23 in /usr/local/lib/python3.7/dist-packages (from jinja2->spacy<3.3.0,>=3.2.0->en-core-web-lg==3.2.0) (2.0.1)\n",
            "\u001b[38;5;2m✔ Download and installation successful\u001b[0m\n",
            "You can now load the package via spacy.load('en_core_web_lg')\n"
          ]
        }
      ]
    },
    {
      "cell_type": "code",
      "source": [
        "def extract_stacy_tags(dataframe):\n",
        "  ## tag text and exctract tags into a list\n",
        "  dataframe[\"tags\"] = dataframe[\"text\"].apply(lambda x: [(tag.text, tag.label_) \n",
        "                                  for tag in ner(x).ents] )\n",
        "\n",
        "  ## utils function to count the element of a list\n",
        "  def utils_lst_count(lst):\n",
        "      dic_counter = collections.Counter()\n",
        "      for x in lst:\n",
        "          dic_counter[x] += 1\n",
        "      dic_counter = collections.OrderedDict( \n",
        "                      sorted(dic_counter.items(), \n",
        "                      key=lambda x: x[1], reverse=True))\n",
        "      lst_count = [ {key:value} for key,value in dic_counter.items() ]\n",
        "      return lst_count\n",
        "\n",
        "  ## count tags\n",
        "  dataframe[\"tags\"] = dataframe[\"tags\"].apply(lambda x: utils_lst_count(x))\n",
        "\n",
        "  ## utils function create new column for each tag category\n",
        "  def utils_ner_features(lst_dics_tuples, tag):\n",
        "      if len(lst_dics_tuples) > 0:\n",
        "          tag_type = []\n",
        "          for dic_tuples in lst_dics_tuples:\n",
        "              for tuple in dic_tuples:\n",
        "                  type, n = tuple[1], dic_tuples[tuple]\n",
        "                  tag_type = tag_type + [type]*n\n",
        "                  dic_counter = collections.Counter()\n",
        "                  for x in tag_type:\n",
        "                      dic_counter[x] += 1\n",
        "          return dic_counter[tag]\n",
        "      else:\n",
        "          return 0\n",
        "\n",
        "  ## extract features\n",
        "  tags_set = []\n",
        "  for lst in dataframe[\"tags\"].tolist():\n",
        "    for dic in lst:\n",
        "      for k in dic.keys():\n",
        "        tags_set.append(k[1])\n",
        "  tags_set = list(set(tags_set))\n",
        "  for feature in tags_set:\n",
        "    dataframe[\"tags_\"+feature] = dataframe[\"tags\"].apply(lambda x: \n",
        "                              utils_ner_features(x, feature))\n",
        "\n",
        "  ## extract features\n",
        "  tags_set = []\n",
        "  for lst in dataframe[\"tags\"].tolist():\n",
        "    for dic in lst:\n",
        "      for k in dic.keys():\n",
        "        tags_set.append(k[1])\n",
        "  tags_set = list(set(tags_set))\n",
        "  for feature in tags_set:\n",
        "    dataframe[\"tags_\"+feature] = dataframe[\"tags\"].apply(lambda x: \n",
        "                              utils_ner_features(x, feature))\n",
        "  return dataframe"
      ],
      "metadata": {
        "id": "W0sfog3YXn8a"
      },
      "execution_count": 27,
      "outputs": []
    },
    {
      "cell_type": "code",
      "source": [
        "data = extract_stacy_tags(data)\n",
        "data.head(2)"
      ],
      "metadata": {
        "id": "e8Ttrz24g7a3"
      },
      "execution_count": 28,
      "outputs": []
    },
    {
      "cell_type": "markdown",
      "source": [
        "## Measure impact of each feature"
      ],
      "metadata": {
        "id": "arszjeNcYeZX"
      }
    },
    {
      "cell_type": "code",
      "source": [
        "# to 'vizualise' behavior of each target relating to a feature\n",
        "\n",
        "#Choose your feature\n",
        "feature = \"char_count\"\n",
        "\n",
        "x, y = feature, \"target\"\n",
        "fig, ax = plt.subplots(nrows=1, ncols=2)\n",
        "fig.suptitle(x, fontsize=12)\n",
        "for i in data[y].unique():\n",
        "    sns.distplot(data[data[y]==i][x], hist=True, kde=False, \n",
        "                 bins=10, hist_kws={\"alpha\":0.8}, \n",
        "                 axlabel=\"histogram\", ax=ax[0])\n",
        "    sns.distplot(data[data[y]==i][x], hist=False, kde=True, \n",
        "                 kde_kws={\"shade\":True}, axlabel=\"density\",   \n",
        "                 ax=ax[1])\n",
        "ax[0].grid(True)\n",
        "ax[0].legend(data[y].unique())\n",
        "ax[1].grid(True)\n",
        "plt.show();"
      ],
      "metadata": {
        "colab": {
          "base_uri": "https://localhost:8080/",
          "height": 467
        },
        "id": "nfBODEgCX6Ct",
        "outputId": "524645bc-e90e-4061-f51b-26cbd5a4a1b2"
      },
      "execution_count": 30,
      "outputs": [
        {
          "output_type": "stream",
          "name": "stderr",
          "text": [
            "/usr/local/lib/python3.7/dist-packages/seaborn/distributions.py:2619: FutureWarning: `distplot` is a deprecated function and will be removed in a future version. Please adapt your code to use either `displot` (a figure-level function with similar flexibility) or `histplot` (an axes-level function for histograms).\n",
            "  warnings.warn(msg, FutureWarning)\n",
            "/usr/local/lib/python3.7/dist-packages/seaborn/distributions.py:2619: FutureWarning: `distplot` is a deprecated function and will be removed in a future version. Please adapt your code to use either `displot` (a figure-level function with similar flexibility) or `kdeplot` (an axes-level function for kernel density plots).\n",
            "  warnings.warn(msg, FutureWarning)\n",
            "/usr/local/lib/python3.7/dist-packages/seaborn/distributions.py:2619: FutureWarning: `distplot` is a deprecated function and will be removed in a future version. Please adapt your code to use either `displot` (a figure-level function with similar flexibility) or `histplot` (an axes-level function for histograms).\n",
            "  warnings.warn(msg, FutureWarning)\n",
            "/usr/local/lib/python3.7/dist-packages/seaborn/distributions.py:2619: FutureWarning: `distplot` is a deprecated function and will be removed in a future version. Please adapt your code to use either `displot` (a figure-level function with similar flexibility) or `kdeplot` (an axes-level function for kernel density plots).\n",
            "  warnings.warn(msg, FutureWarning)\n"
          ]
        },
        {
          "output_type": "display_data",
          "data": {
            "image/png": "[encoded data removed]",
            "text/plain": [
              "<Figure size 432x288 with 2 Axes>"
            ]
          },
          "metadata": {
            "needs_background": "light"
          }
        }
      ]
    },
    {
      "cell_type": "code",
      "source": [
        "# create a dataframe that shows how important a feature is for target 1 vs target 0\n",
        "# for the spacy tags 'tags_GPE','tags_FAC','tags_EVENT','tags_LOC' \n",
        "#(personal choice made on the description of those tags by stacy docs)\n",
        "\n",
        "lst_mytag = ['tags_GPE','tags_FAC','tags_EVENT','tags_LOC']\n",
        "for tag in lst_mytag:\n",
        "    df_0 = pd.DataFrame(columns= [0,1], index=lst_mytag)\n",
        "\n",
        "for tag in lst_mytag:\n",
        "  for d,elem in zip(data.groupby('target')[tag].mean(), [0,1]):\n",
        "      df_0.loc[tag,elem] = d\n",
        "\n",
        "df_0['ratio'] = df_0[1]/df_0[0]\n",
        "df_0"
      ],
      "metadata": {
        "colab": {
          "base_uri": "https://localhost:8080/",
          "height": 175
        },
        "id": "FEBzy7uvsTUq",
        "outputId": "89d0f588-e51d-4e2b-984d-4136d9a985ed"
      },
      "execution_count": 31,
      "outputs": [
        {
          "output_type": "execute_result",
          "data": {
            "text/html": [
              "\n",
              "  <div id=\"df-3d727062-4d7c-4cbb-82da-6881016df9bb\">\n",
              "    <div class=\"colab-df-container\">\n",
              "      <div>\n",
              "<style scoped>\n",
              "    .dataframe tbody tr th:only-of-type {\n",
              "        vertical-align: middle;\n",
              "    }\n",
              "\n",
              "    .dataframe tbody tr th {\n",
              "        vertical-align: top;\n",
              "    }\n",
              "\n",
              "    .dataframe thead th {\n",
              "        text-align: right;\n",
              "    }\n",
              "</style>\n",
              "<table border=\"1\" class=\"dataframe\">\n",
              "  <thead>\n",
              "    <tr style=\"text-align: right;\">\n",
              "      <th></th>\n",
              "      <th>0</th>\n",
              "      <th>1</th>\n",
              "      <th>ratio</th>\n",
              "    </tr>\n",
              "  </thead>\n",
              "  <tbody>\n",
              "    <tr>\n",
              "      <th>tags_GPE</th>\n",
              "      <td>0.0907416</td>\n",
              "      <td>0.381535</td>\n",
              "      <td>4.20463</td>\n",
              "    </tr>\n",
              "    <tr>\n",
              "      <th>tags_FAC</th>\n",
              "      <td>0.0112851</td>\n",
              "      <td>0.036686</td>\n",
              "      <td>3.25083</td>\n",
              "    </tr>\n",
              "    <tr>\n",
              "      <th>tags_EVENT</th>\n",
              "      <td>0.00575772</td>\n",
              "      <td>0.00733721</td>\n",
              "      <td>1.27433</td>\n",
              "    </tr>\n",
              "    <tr>\n",
              "      <th>tags_LOC</th>\n",
              "      <td>0.0101336</td>\n",
              "      <td>0.0513604</td>\n",
              "      <td>5.06834</td>\n",
              "    </tr>\n",
              "  </tbody>\n",
              "</table>\n",
              "</div>\n",
              "      <button class=\"colab-df-convert\" onclick=\"convertToInteractive('df-3d727062-4d7c-4cbb-82da-6881016df9bb')\"\n",
              "              title=\"Convert this dataframe to an interactive table.\"\n",
              "              style=\"display:none;\">\n",
              "        \n",
              "  <svg xmlns=\"http://www.w3.org/2000/svg\" height=\"24px\"viewBox=\"0 0 24 24\"\n",
              "       width=\"24px\">\n",
              "    <path d=\"M0 0h24v24H0V0z\" fill=\"none\"/>\n",
              "    <path d=\"M18.56 5.44l.94 2.06.94-2.06 2.06-.94-2.06-.94-.94-2.06-.94 2.06-2.06.94zm-11 1L8.5 8.5l.94-2.06 2.06-.94-2.06-.94L8.5 2.5l-.94 2.06-2.06.94zm10 10l.94 2.06.94-2.06 2.06-.94-2.06-.94-.94-2.06-.94 2.06-2.06.94z\"/><path d=\"M17.41 7.96l-1.37-1.37c-.4-.4-.92-.59-1.43-.59-.52 0-1.04.2-1.43.59L10.3 9.45l-7.72 7.72c-.78.78-.78 2.05 0 2.83L4 21.41c.39.39.9.59 1.41.59.51 0 1.02-.2 1.41-.59l7.78-7.78 2.81-2.81c.8-.78.8-2.07 0-2.86zM5.41 20L4 18.59l7.72-7.72 1.47 1.35L5.41 20z\"/>\n",
              "  </svg>\n",
              "      </button>\n",
              "      \n",
              "  <style>\n",
              "    .colab-df-container {\n",
              "      display:flex;\n",
              "      flex-wrap:wrap;\n",
              "      gap: 12px;\n",
              "    }\n",
              "\n",
              "    .colab-df-convert {\n",
              "      background-color: #E8F0FE;\n",
              "      border: none;\n",
              "      border-radius: 50%;\n",
              "      cursor: pointer;\n",
              "      display: none;\n",
              "      fill: #1967D2;\n",
              "      height: 32px;\n",
              "      padding: 0 0 0 0;\n",
              "      width: 32px;\n",
              "    }\n",
              "\n",
              "    .colab-df-convert:hover {\n",
              "      background-color: #E2EBFA;\n",
              "      box-shadow: 0px 1px 2px rgba(60, 64, 67, 0.3), 0px 1px 3px 1px rgba(60, 64, 67, 0.15);\n",
              "      fill: #174EA6;\n",
              "    }\n",
              "\n",
              "    [theme=dark] .colab-df-convert {\n",
              "      background-color: #3B4455;\n",
              "      fill: #D2E3FC;\n",
              "    }\n",
              "\n",
              "    [theme=dark] .colab-df-convert:hover {\n",
              "      background-color: #434B5C;\n",
              "      box-shadow: 0px 1px 3px 1px rgba(0, 0, 0, 0.15);\n",
              "      filter: drop-shadow(0px 1px 2px rgba(0, 0, 0, 0.3));\n",
              "      fill: #FFFFFF;\n",
              "    }\n",
              "  </style>\n",
              "\n",
              "      <script>\n",
              "        const buttonEl =\n",
              "          document.querySelector('#df-3d727062-4d7c-4cbb-82da-6881016df9bb button.colab-df-convert');\n",
              "        buttonEl.style.display =\n",
              "          google.colab.kernel.accessAllowed ? 'block' : 'none';\n",
              "\n",
              "        async function convertToInteractive(key) {\n",
              "          const element = document.querySelector('#df-3d727062-4d7c-4cbb-82da-6881016df9bb');\n",
              "          const dataTable =\n",
              "            await google.colab.kernel.invokeFunction('convertToInteractive',\n",
              "                                                     [key], {});\n",
              "          if (!dataTable) return;\n",
              "\n",
              "          const docLinkHtml = 'Like what you see? Visit the ' +\n",
              "            '<a target=\"_blank\" href=https://colab.research.google.com/notebooks/data_table.ipynb>data table notebook</a>'\n",
              "            + ' to learn more about interactive tables.';\n",
              "          element.innerHTML = '';\n",
              "          dataTable['output_type'] = 'display_data';\n",
              "          await google.colab.output.renderOutput(dataTable, element);\n",
              "          const docLink = document.createElement('div');\n",
              "          docLink.innerHTML = docLinkHtml;\n",
              "          element.appendChild(docLink);\n",
              "        }\n",
              "      </script>\n",
              "    </div>\n",
              "  </div>\n",
              "  "
            ],
            "text/plain": [
              "                     0           1    ratio\n",
              "tags_GPE     0.0907416    0.381535  4.20463\n",
              "tags_FAC     0.0112851    0.036686  3.25083\n",
              "tags_EVENT  0.00575772  0.00733721  1.27433\n",
              "tags_LOC     0.0101336   0.0513604  5.06834"
            ]
          },
          "metadata": {},
          "execution_count": 31
        }
      ]
    },
    {
      "cell_type": "code",
      "source": [
        "#create a dataframe that shows how important a feature is for target 1 vs target 0\n",
        "# for all numerical features\n",
        "\n",
        "wording_features = ['disaster_word','word_count','char_count','sentence_count','avg_word_length','avg_sentence_lenght']\n",
        "for feature in wording_features:\n",
        "  df_1 = pd.DataFrame(columns= [0,1], index=wording_features)\n",
        "\n",
        "for feature in wording_features:\n",
        "  for d,elem in zip(data.groupby('target')[feature].mean(), [0,1]):\n",
        "    df_1.loc[feature,elem] = d\n",
        "\n",
        "df_1['ratio'] = df_1[1]/df_1[0]\n",
        "df_1"
      ],
      "metadata": {
        "colab": {
          "base_uri": "https://localhost:8080/",
          "height": 238
        },
        "id": "bh3po_Bxxeik",
        "outputId": "79f506c9-b7e1-479b-9052-64beedba1fe8"
      },
      "execution_count": 32,
      "outputs": [
        {
          "output_type": "execute_result",
          "data": {
            "text/html": [
              "\n",
              "  <div id=\"df-618bf770-7bb3-4eed-a1b8-87c698592449\">\n",
              "    <div class=\"colab-df-container\">\n",
              "      <div>\n",
              "<style scoped>\n",
              "    .dataframe tbody tr th:only-of-type {\n",
              "        vertical-align: middle;\n",
              "    }\n",
              "\n",
              "    .dataframe tbody tr th {\n",
              "        vertical-align: top;\n",
              "    }\n",
              "\n",
              "    .dataframe thead th {\n",
              "        text-align: right;\n",
              "    }\n",
              "</style>\n",
              "<table border=\"1\" class=\"dataframe\">\n",
              "  <thead>\n",
              "    <tr style=\"text-align: right;\">\n",
              "      <th></th>\n",
              "      <th>0</th>\n",
              "      <th>1</th>\n",
              "      <th>ratio</th>\n",
              "    </tr>\n",
              "  </thead>\n",
              "  <tbody>\n",
              "    <tr>\n",
              "      <th>disaster_word</th>\n",
              "      <td>0.0428374</td>\n",
              "      <td>0.161724</td>\n",
              "      <td>3.7753</td>\n",
              "    </tr>\n",
              "    <tr>\n",
              "      <th>word_count</th>\n",
              "      <td>14.7239</td>\n",
              "      <td>15.2012</td>\n",
              "      <td>1.03242</td>\n",
              "    </tr>\n",
              "    <tr>\n",
              "      <th>char_count</th>\n",
              "      <td>82.1082</td>\n",
              "      <td>94.0352</td>\n",
              "      <td>1.14526</td>\n",
              "    </tr>\n",
              "    <tr>\n",
              "      <th>sentence_count</th>\n",
              "      <td>2.32474</td>\n",
              "      <td>2.81718</td>\n",
              "      <td>1.21183</td>\n",
              "    </tr>\n",
              "    <tr>\n",
              "      <th>avg_word_length</th>\n",
              "      <td>5.91923</td>\n",
              "      <td>6.54277</td>\n",
              "      <td>1.10534</td>\n",
              "    </tr>\n",
              "    <tr>\n",
              "      <th>avg_sentence_lenght</th>\n",
              "      <td>8.23347</td>\n",
              "      <td>6.966</td>\n",
              "      <td>0.846059</td>\n",
              "    </tr>\n",
              "  </tbody>\n",
              "</table>\n",
              "</div>\n",
              "      <button class=\"colab-df-convert\" onclick=\"convertToInteractive('df-618bf770-7bb3-4eed-a1b8-87c698592449')\"\n",
              "              title=\"Convert this dataframe to an interactive table.\"\n",
              "              style=\"display:none;\">\n",
              "        \n",
              "  <svg xmlns=\"http://www.w3.org/2000/svg\" height=\"24px\"viewBox=\"0 0 24 24\"\n",
              "       width=\"24px\">\n",
              "    <path d=\"M0 0h24v24H0V0z\" fill=\"none\"/>\n",
              "    <path d=\"M18.56 5.44l.94 2.06.94-2.06 2.06-.94-2.06-.94-.94-2.06-.94 2.06-2.06.94zm-11 1L8.5 8.5l.94-2.06 2.06-.94-2.06-.94L8.5 2.5l-.94 2.06-2.06.94zm10 10l.94 2.06.94-2.06 2.06-.94-2.06-.94-.94-2.06-.94 2.06-2.06.94z\"/><path d=\"M17.41 7.96l-1.37-1.37c-.4-.4-.92-.59-1.43-.59-.52 0-1.04.2-1.43.59L10.3 9.45l-7.72 7.72c-.78.78-.78 2.05 0 2.83L4 21.41c.39.39.9.59 1.41.59.51 0 1.02-.2 1.41-.59l7.78-7.78 2.81-2.81c.8-.78.8-2.07 0-2.86zM5.41 20L4 18.59l7.72-7.72 1.47 1.35L5.41 20z\"/>\n",
              "  </svg>\n",
              "      </button>\n",
              "      \n",
              "  <style>\n",
              "    .colab-df-container {\n",
              "      display:flex;\n",
              "      flex-wrap:wrap;\n",
              "      gap: 12px;\n",
              "    }\n",
              "\n",
              "    .colab-df-convert {\n",
              "      background-color: #E8F0FE;\n",
              "      border: none;\n",
              "      border-radius: 50%;\n",
              "      cursor: pointer;\n",
              "      display: none;\n",
              "      fill: #1967D2;\n",
              "      height: 32px;\n",
              "      padding: 0 0 0 0;\n",
              "      width: 32px;\n",
              "    }\n",
              "\n",
              "    .colab-df-convert:hover {\n",
              "      background-color: #E2EBFA;\n",
              "      box-shadow: 0px 1px 2px rgba(60, 64, 67, 0.3), 0px 1px 3px 1px rgba(60, 64, 67, 0.15);\n",
              "      fill: #174EA6;\n",
              "    }\n",
              "\n",
              "    [theme=dark] .colab-df-convert {\n",
              "      background-color: #3B4455;\n",
              "      fill: #D2E3FC;\n",
              "    }\n",
              "\n",
              "    [theme=dark] .colab-df-convert:hover {\n",
              "      background-color: #434B5C;\n",
              "      box-shadow: 0px 1px 3px 1px rgba(0, 0, 0, 0.15);\n",
              "      filter: drop-shadow(0px 1px 2px rgba(0, 0, 0, 0.3));\n",
              "      fill: #FFFFFF;\n",
              "    }\n",
              "  </style>\n",
              "\n",
              "      <script>\n",
              "        const buttonEl =\n",
              "          document.querySelector('#df-618bf770-7bb3-4eed-a1b8-87c698592449 button.colab-df-convert');\n",
              "        buttonEl.style.display =\n",
              "          google.colab.kernel.accessAllowed ? 'block' : 'none';\n",
              "\n",
              "        async function convertToInteractive(key) {\n",
              "          const element = document.querySelector('#df-618bf770-7bb3-4eed-a1b8-87c698592449');\n",
              "          const dataTable =\n",
              "            await google.colab.kernel.invokeFunction('convertToInteractive',\n",
              "                                                     [key], {});\n",
              "          if (!dataTable) return;\n",
              "\n",
              "          const docLinkHtml = 'Like what you see? Visit the ' +\n",
              "            '<a target=\"_blank\" href=https://colab.research.google.com/notebooks/data_table.ipynb>data table notebook</a>'\n",
              "            + ' to learn more about interactive tables.';\n",
              "          element.innerHTML = '';\n",
              "          dataTable['output_type'] = 'display_data';\n",
              "          await google.colab.output.renderOutput(dataTable, element);\n",
              "          const docLink = document.createElement('div');\n",
              "          docLink.innerHTML = docLinkHtml;\n",
              "          element.appendChild(docLink);\n",
              "        }\n",
              "      </script>\n",
              "    </div>\n",
              "  </div>\n",
              "  "
            ],
            "text/plain": [
              "                             0         1     ratio\n",
              "disaster_word        0.0428374  0.161724    3.7753\n",
              "word_count             14.7239   15.2012   1.03242\n",
              "char_count             82.1082   94.0352   1.14526\n",
              "sentence_count         2.32474   2.81718   1.21183\n",
              "avg_word_length        5.91923   6.54277   1.10534\n",
              "avg_sentence_lenght    8.23347     6.966  0.846059"
            ]
          },
          "metadata": {},
          "execution_count": 32
        }
      ]
    },
    {
      "cell_type": "markdown",
      "source": [
        "## 🌤  \n",
        "It seems that the features having a significal impact on the target one are :\n",
        "- disaster word\n",
        "- tags_GPE\n",
        "- tags_LOC\n",
        "- tags_FAC"
      ],
      "metadata": {
        "id": "XsKWSiDKbkBh"
      }
    },
    {
      "cell_type": "markdown",
      "source": [
        "# Vectorize"
      ],
      "metadata": {
        "id": "2BSu3gvE1SVo"
      }
    },
    {
      "cell_type": "code",
      "source": [
        "from sklearn.compose import ColumnTransformer\n",
        "from sklearn.feature_extraction.text import TfidfVectorizer\n",
        "\n",
        "column_trans = ColumnTransformer([('vec', TfidfVectorizer(ngram_range=(1,1)), 'clean_text')]\n",
        "                                 , remainder='passthrough')\n"
      ],
      "metadata": {
        "id": "mE5wu41E8jHK"
      },
      "execution_count": 33,
      "outputs": []
    },
    {
      "cell_type": "code",
      "source": [
        "y = data['target']"
      ],
      "metadata": {
        "id": "cjPhnAcr-8W9"
      },
      "execution_count": 34,
      "outputs": []
    },
    {
      "cell_type": "markdown",
      "source": [
        "# Models"
      ],
      "metadata": {
        "id": "cutz9WwbZPFm"
      }
    },
    {
      "cell_type": "markdown",
      "source": [
        "## Machine Learning Models"
      ],
      "metadata": {
        "id": "FvsLt-TGvnZr"
      }
    },
    {
      "cell_type": "code",
      "source": [
        "from sklearn.model_selection import GridSearchCV\n",
        "from sklearn.pipeline import Pipeline"
      ],
      "metadata": {
        "id": "JPjfTcv-3RqV"
      },
      "execution_count": 35,
      "outputs": []
    },
    {
      "cell_type": "markdown",
      "source": [
        "### MultinomialNB"
      ],
      "metadata": {
        "id": "-CSVjfMPU3ga"
      }
    },
    {
      "cell_type": "code",
      "source": [
        "\n",
        "from sklearn.naive_bayes import MultinomialNB\n",
        "\n",
        "# Create Pipeline\n",
        "\n",
        "pipe_MNNB = Pipeline([\n",
        "    ('tfidf', column_trans),\n",
        "    ('nb', MultinomialNB()),\n",
        "])\n",
        "\n",
        "# Set parameters to search (model and vectorizer)\n",
        "\n",
        "parameters_MNNB = {\n",
        "    'tfidf__vec__ngram_range': ((1,1), (2,2),(1,2)),\n",
        "    'nb__alpha': (0.1,0.01,1)}\n",
        "\n",
        "# Perform grid search on pipeline\n",
        "\n",
        "grid_search_MNNB = GridSearchCV(pipe_MNNB, parameters_MNNB, n_jobs=-1, \n",
        "                           verbose=1, scoring = \"precision\", \n",
        "                           refit=False, cv=5)\n",
        "\n",
        "grid_search_MNNB.fit(data[['clean_text','disaster_word','tags_GPE','tags_LOC','tags_FAC']],y)\n",
        "\n",
        "\n",
        "print(grid_search_MNNB.best_params_)\n",
        "print(f' precision : {round((grid_search_MNNB.best_score_),3)}')"
      ],
      "metadata": {
        "colab": {
          "base_uri": "https://localhost:8080/"
        },
        "id": "dqZrQsc13SrU",
        "outputId": "0bd00dd5-31fd-4a0b-e356-67645eb4b516"
      },
      "execution_count": 66,
      "outputs": [
        {
          "output_type": "stream",
          "name": "stdout",
          "text": [
            "Fitting 5 folds for each of 9 candidates, totalling 45 fits\n",
            "{'nb__alpha': 1, 'tfidf__vec__ngram_range': (1, 2)}\n",
            " precision : 0.706\n"
          ]
        }
      ]
    },
    {
      "cell_type": "markdown",
      "source": [
        "### Linear SVC"
      ],
      "metadata": {
        "id": "2KFBp6S3U-uy"
      }
    },
    {
      "cell_type": "code",
      "source": [
        "from sklearn.svm import LinearSVC\n",
        "from sklearn.metrics import make_scorer\n",
        "\n",
        "#my_scorer = make_scorer((\"accuracy\",\"recall\",\"precision\"))\n",
        "\n",
        "# Create Pipeline\n",
        "\n",
        "pipe_svc = Pipeline([\n",
        "    ('tfidf', column_trans),\n",
        "    ('svc', LinearSVC()),\n",
        "])\n",
        "\n",
        "# Set parameters to search (model and vectorizer)\n",
        "parameters_svc = {\n",
        "    'tfidf__vec__ngram_range': ((1,1), (2,2),(1,2)),\n",
        "    'svc__C': (0.1,0.01,1)}\n",
        "\n",
        "# Perform grid search on pipeline\n",
        "\n",
        "grid_search_svc = GridSearchCV(pipe_svc, parameters_svc, n_jobs=-1, \n",
        "                           verbose=1, scoring = \"precision\", \n",
        "                           refit=True, cv=5)\n",
        "\n",
        "grid_search_svc.fit(data[['clean_text','disaster_word','tags_GPE','tags_LOC','tags_FAC']],y)\n",
        "\n",
        "\n",
        "print(grid_search_svc.best_params_)\n",
        "print(f' precision : {round((grid_search_svc.best_score_),3)}')"
      ],
      "metadata": {
        "colab": {
          "base_uri": "https://localhost:8080/"
        },
        "id": "yaKFvSrPD0U-",
        "outputId": "cf61e625-c610-4c98-d4f0-d745d0c50a7b"
      },
      "execution_count": 80,
      "outputs": [
        {
          "output_type": "stream",
          "name": "stdout",
          "text": [
            "Fitting 5 folds for each of 9 candidates, totalling 45 fits\n",
            "{'svc__C': 0.1, 'tfidf__vec__ngram_range': (1, 2)}\n",
            " precision : 0.754\n"
          ]
        }
      ]
    },
    {
      "cell_type": "markdown",
      "source": [
        "### KNeighbors"
      ],
      "metadata": {
        "id": "6ykb2SfeUCPk"
      }
    },
    {
      "cell_type": "code",
      "source": [
        "from sklearn.neighbors import KNeighborsClassifier\n",
        "\n",
        "# Create Pipeline\n",
        "\n",
        "pipe_knc = Pipeline([\n",
        "    ('tfidf', column_trans),\n",
        "    ('knc', KNeighborsClassifier()),\n",
        "])\n",
        "\n",
        "# Set parameters to search (model and vectorizer)\n",
        "parameters_knc = {\n",
        "    'tfidf__vec__ngram_range': ((1,1), (2,2),(1,2)),\n",
        "    'knc__n_neighbors': (2,3,4,5)}\n",
        "\n",
        "# Perform grid search on pipeline\n",
        "\n",
        "grid_search_knc = GridSearchCV(pipe_knc, parameters_knc, n_jobs=-1, \n",
        "                           verbose=1, scoring = \"precision\", \n",
        "                           refit=True, cv=5)\n",
        "\n",
        "grid_search_knc.fit(data[['clean_text','disaster_word','tags_GPE','tags_LOC','tags_FAC']],y)\n",
        "\n",
        "\n",
        "print(grid_search_knc.best_params_)\n",
        "print(f' precision : {round((grid_search_knc.best_score_),3)}')"
      ],
      "metadata": {
        "colab": {
          "base_uri": "https://localhost:8080/"
        },
        "id": "RHQBDO7aOKFT",
        "outputId": "c4e2b06e-4f45-4a94-bf08-d08ebef67888"
      },
      "execution_count": 79,
      "outputs": [
        {
          "output_type": "stream",
          "name": "stdout",
          "text": [
            "Fitting 5 folds for each of 12 candidates, totalling 60 fits\n",
            "{'knc__n_neighbors': 3, 'tfidf__vec__ngram_range': (1, 1)}\n",
            " precision : 0.567\n"
          ]
        }
      ]
    },
    {
      "cell_type": "markdown",
      "source": [
        "## 🌤  \n",
        "Let's use KNN. Here I choose the precision as metric to avoid to give false alarms and focus on the prediction instead of the actual."
      ],
      "metadata": {
        "id": "vbca2elUdtFd"
      }
    },
    {
      "cell_type": "markdown",
      "source": [
        "### Final Model"
      ],
      "metadata": {
        "id": "U7OuC9XITG4E"
      }
    },
    {
      "cell_type": "code",
      "source": [
        "from sklearn.model_selection import train_test_split\n",
        "\n",
        "#set my new column_transformer\n",
        "column_transform = ColumnTransformer([('vec', TfidfVectorizer(ngram_range=(2,2)), 'clean_text')]\n",
        "                                 , remainder='passthrough')\n",
        "\n",
        "# create training data with only the wanted features\n",
        "X_combined = column_transform.fit_transform(data[['clean_text','disaster_word','tags_GPE','tags_LOC']])\n",
        "\n",
        "X_train, X_test, y_train, y_test = train_test_split(X_combined,y, test_size = 0.30, random_state=42)"
      ],
      "metadata": {
        "id": "5UwKqekEVviY"
      },
      "execution_count": 81,
      "outputs": []
    },
    {
      "cell_type": "code",
      "source": [
        "model = KNeighborsClassifier(n_neighbors=2)\n",
        "#model = LinearSVC(C=0.1)\n",
        "model.fit(X_train,y_train)\n",
        "model.score(X_test,y_test)"
      ],
      "metadata": {
        "colab": {
          "base_uri": "https://localhost:8080/"
        },
        "id": "d0JrEMgVT21d",
        "outputId": "bf095e06-24dd-419f-da3f-adbfe626c288"
      },
      "execution_count": 82,
      "outputs": [
        {
          "output_type": "execute_result",
          "data": {
            "text/plain": [
              "0.7180385288966725"
            ]
          },
          "metadata": {},
          "execution_count": 82
        }
      ]
    },
    {
      "cell_type": "code",
      "source": [
        "# create a y_test_predicted on the train data to check with a condusion matrix that my model is not over predicted a target\n",
        "y_test_predicted = model.predict(X_test)"
      ],
      "metadata": {
        "id": "rYAr-E_T_YbX"
      },
      "execution_count": 83,
      "outputs": []
    },
    {
      "cell_type": "code",
      "source": [
        "from sklearn.metrics import plot_confusion_matrix\n",
        "\n",
        "results_model = pd.DataFrame({\"actual\": y_test,\n",
        "                           \"predicted\": y_test_predicted})\n",
        "\n",
        "confusion_matrix = pd.crosstab(index= results_model['actual'],\n",
        "                               columns = results_model['predicted'])\n",
        "\n",
        "\n",
        "confusion_matrix"
      ],
      "metadata": {
        "colab": {
          "base_uri": "https://localhost:8080/",
          "height": 143
        },
        "id": "QaW_FBhk5rGV",
        "outputId": "f3263945-70a5-4002-bf31-761949889048"
      },
      "execution_count": 84,
      "outputs": [
        {
          "output_type": "execute_result",
          "data": {
            "text/html": [
              "\n",
              "  <div id=\"df-caacfcda-95fb-46e6-87d0-578fec8880a4\">\n",
              "    <div class=\"colab-df-container\">\n",
              "      <div>\n",
              "<style scoped>\n",
              "    .dataframe tbody tr th:only-of-type {\n",
              "        vertical-align: middle;\n",
              "    }\n",
              "\n",
              "    .dataframe tbody tr th {\n",
              "        vertical-align: top;\n",
              "    }\n",
              "\n",
              "    .dataframe thead th {\n",
              "        text-align: right;\n",
              "    }\n",
              "</style>\n",
              "<table border=\"1\" class=\"dataframe\">\n",
              "  <thead>\n",
              "    <tr style=\"text-align: right;\">\n",
              "      <th>predicted</th>\n",
              "      <th>0</th>\n",
              "      <th>1</th>\n",
              "    </tr>\n",
              "    <tr>\n",
              "      <th>actual</th>\n",
              "      <th></th>\n",
              "      <th></th>\n",
              "    </tr>\n",
              "  </thead>\n",
              "  <tbody>\n",
              "    <tr>\n",
              "      <th>0</th>\n",
              "      <td>1202</td>\n",
              "      <td>116</td>\n",
              "    </tr>\n",
              "    <tr>\n",
              "      <th>1</th>\n",
              "      <td>528</td>\n",
              "      <td>438</td>\n",
              "    </tr>\n",
              "  </tbody>\n",
              "</table>\n",
              "</div>\n",
              "      <button class=\"colab-df-convert\" onclick=\"convertToInteractive('df-caacfcda-95fb-46e6-87d0-578fec8880a4')\"\n",
              "              title=\"Convert this dataframe to an interactive table.\"\n",
              "              style=\"display:none;\">\n",
              "        \n",
              "  <svg xmlns=\"http://www.w3.org/2000/svg\" height=\"24px\"viewBox=\"0 0 24 24\"\n",
              "       width=\"24px\">\n",
              "    <path d=\"M0 0h24v24H0V0z\" fill=\"none\"/>\n",
              "    <path d=\"M18.56 5.44l.94 2.06.94-2.06 2.06-.94-2.06-.94-.94-2.06-.94 2.06-2.06.94zm-11 1L8.5 8.5l.94-2.06 2.06-.94-2.06-.94L8.5 2.5l-.94 2.06-2.06.94zm10 10l.94 2.06.94-2.06 2.06-.94-2.06-.94-.94-2.06-.94 2.06-2.06.94z\"/><path d=\"M17.41 7.96l-1.37-1.37c-.4-.4-.92-.59-1.43-.59-.52 0-1.04.2-1.43.59L10.3 9.45l-7.72 7.72c-.78.78-.78 2.05 0 2.83L4 21.41c.39.39.9.59 1.41.59.51 0 1.02-.2 1.41-.59l7.78-7.78 2.81-2.81c.8-.78.8-2.07 0-2.86zM5.41 20L4 18.59l7.72-7.72 1.47 1.35L5.41 20z\"/>\n",
              "  </svg>\n",
              "      </button>\n",
              "      \n",
              "  <style>\n",
              "    .colab-df-container {\n",
              "      display:flex;\n",
              "      flex-wrap:wrap;\n",
              "      gap: 12px;\n",
              "    }\n",
              "\n",
              "    .colab-df-convert {\n",
              "      background-color: #E8F0FE;\n",
              "      border: none;\n",
              "      border-radius: 50%;\n",
              "      cursor: pointer;\n",
              "      display: none;\n",
              "      fill: #1967D2;\n",
              "      height: 32px;\n",
              "      padding: 0 0 0 0;\n",
              "      width: 32px;\n",
              "    }\n",
              "\n",
              "    .colab-df-convert:hover {\n",
              "      background-color: #E2EBFA;\n",
              "      box-shadow: 0px 1px 2px rgba(60, 64, 67, 0.3), 0px 1px 3px 1px rgba(60, 64, 67, 0.15);\n",
              "      fill: #174EA6;\n",
              "    }\n",
              "\n",
              "    [theme=dark] .colab-df-convert {\n",
              "      background-color: #3B4455;\n",
              "      fill: #D2E3FC;\n",
              "    }\n",
              "\n",
              "    [theme=dark] .colab-df-convert:hover {\n",
              "      background-color: #434B5C;\n",
              "      box-shadow: 0px 1px 3px 1px rgba(0, 0, 0, 0.15);\n",
              "      filter: drop-shadow(0px 1px 2px rgba(0, 0, 0, 0.3));\n",
              "      fill: #FFFFFF;\n",
              "    }\n",
              "  </style>\n",
              "\n",
              "      <script>\n",
              "        const buttonEl =\n",
              "          document.querySelector('#df-caacfcda-95fb-46e6-87d0-578fec8880a4 button.colab-df-convert');\n",
              "        buttonEl.style.display =\n",
              "          google.colab.kernel.accessAllowed ? 'block' : 'none';\n",
              "\n",
              "        async function convertToInteractive(key) {\n",
              "          const element = document.querySelector('#df-caacfcda-95fb-46e6-87d0-578fec8880a4');\n",
              "          const dataTable =\n",
              "            await google.colab.kernel.invokeFunction('convertToInteractive',\n",
              "                                                     [key], {});\n",
              "          if (!dataTable) return;\n",
              "\n",
              "          const docLinkHtml = 'Like what you see? Visit the ' +\n",
              "            '<a target=\"_blank\" href=https://colab.research.google.com/notebooks/data_table.ipynb>data table notebook</a>'\n",
              "            + ' to learn more about interactive tables.';\n",
              "          element.innerHTML = '';\n",
              "          dataTable['output_type'] = 'display_data';\n",
              "          await google.colab.output.renderOutput(dataTable, element);\n",
              "          const docLink = document.createElement('div');\n",
              "          docLink.innerHTML = docLinkHtml;\n",
              "          element.appendChild(docLink);\n",
              "        }\n",
              "      </script>\n",
              "    </div>\n",
              "  </div>\n",
              "  "
            ],
            "text/plain": [
              "predicted     0    1\n",
              "actual              \n",
              "0          1202  116\n",
              "1           528  438"
            ]
          },
          "metadata": {},
          "execution_count": 84
        }
      ]
    },
    {
      "cell_type": "code",
      "source": [
        "plot_confusion_matrix(model, X_test, y_test, cmap='spring')"
      ],
      "metadata": {
        "colab": {
          "base_uri": "https://localhost:8080/",
          "height": 355
        },
        "id": "xrtmz0F4_t22",
        "outputId": "1c2b345d-086e-49e4-b8b5-d44dad027b83"
      },
      "execution_count": 73,
      "outputs": [
        {
          "output_type": "stream",
          "name": "stderr",
          "text": [
            "/usr/local/lib/python3.7/dist-packages/sklearn/utils/deprecation.py:87: FutureWarning: Function plot_confusion_matrix is deprecated; Function `plot_confusion_matrix` is deprecated in 1.0 and will be removed in 1.2. Use one of the class methods: ConfusionMatrixDisplay.from_predictions or ConfusionMatrixDisplay.from_estimator.\n",
            "  warnings.warn(msg, category=FutureWarning)\n"
          ]
        },
        {
          "output_type": "execute_result",
          "data": {
            "text/plain": [
              "<sklearn.metrics._plot.confusion_matrix.ConfusionMatrixDisplay at 0x7f7d3d027f10>"
            ]
          },
          "metadata": {},
          "execution_count": 73
        },
        {
          "output_type": "display_data",
          "data": {
            "image/png": "[encoded data removed]",
            "text/plain": [
              "<Figure size 432x288 with 2 Axes>"
            ]
          },
          "metadata": {
            "needs_background": "light"
          }
        }
      ]
    },
    {
      "cell_type": "code",
      "source": [
        "#for the prediction, since we have a new data set, we can use all the data for the fitting\n",
        "model_knn = KNeighborsClassifier(n_neighbors=2)\n",
        "model_knn.fit(X_combined,y)"
      ],
      "metadata": {
        "colab": {
          "base_uri": "https://localhost:8080/"
        },
        "id": "tGFJMyI9wmeu",
        "outputId": "3e8f9da6-7f69-4544-e504-9a2f74e7838c"
      },
      "execution_count": 87,
      "outputs": [
        {
          "output_type": "execute_result",
          "data": {
            "text/plain": [
              "KNeighborsClassifier(n_neighbors=2)"
            ]
          },
          "metadata": {},
          "execution_count": 87
        }
      ]
    },
    {
      "cell_type": "markdown",
      "source": [
        "## Predict"
      ],
      "metadata": {
        "id": "6TBCWGn0W9Sd"
      }
    },
    {
      "cell_type": "code",
      "source": [
        "# transform test file to get the right features\n",
        "data_test['clean_text'] = data_test['text'].apply(preprocess)\n",
        "data_test['lem_text'] = data_test['clean_text'].apply(lemmatizerer)\n",
        "data_test['disaster_word'] = data_test['lem_text'].apply(lambda x : count_disaster(x))\n",
        "data_test = extract_stacy_tags(data_test)\n",
        "\n",
        "# vectorize the data\n",
        "X_test_combined = column_transform.transform(data_test[['clean_text','disaster_word','tags_GPE','tags_LOC','tags_FAC']])\n",
        "\n",
        "# predict the unseen data\n",
        "y_predicted = model_knn.predict(X_test_combined)"
      ],
      "metadata": {
        "id": "P7JOirDdWMkb"
      },
      "execution_count": 89,
      "outputs": []
    },
    {
      "cell_type": "code",
      "source": [
        "data_test['predicted'] = y_predicted"
      ],
      "metadata": {
        "id": "IGE6lb9XtbZC"
      },
      "execution_count": 90,
      "outputs": []
    },
    {
      "cell_type": "code",
      "source": [
        "print(f'% of natural disaster spotted : {data_test[\"predicted\"].sum()/len(data_test)}')"
      ],
      "metadata": {
        "colab": {
          "base_uri": "https://localhost:8080/"
        },
        "id": "qU_xyVT-JMwH",
        "outputId": "7aaba69d-619c-459b-ccad-8846dd14c923"
      },
      "execution_count": 94,
      "outputs": [
        {
          "output_type": "stream",
          "name": "stdout",
          "text": [
            "% of natural disaster spotted : 0.224333435488814\n"
          ]
        }
      ]
    },
    {
      "cell_type": "code",
      "source": [
        "data_test[['id','keyword','location','text','predicted']].to_csv('ML_test_predicted')"
      ],
      "metadata": {
        "id": "SR2o78HK10Ff"
      },
      "execution_count": 95,
      "outputs": []
    },
    {
      "cell_type": "markdown",
      "source": [
        "# Deep Learning model"
      ],
      "metadata": {
        "id": "lQ23acbhwGiX"
      }
    },
    {
      "cell_type": "code",
      "source": [
        "X_dl = data[['clean_text']]\n",
        "y_dl = data['target']"
      ],
      "metadata": {
        "id": "o80n4-sGwIFn"
      },
      "execution_count": 97,
      "outputs": []
    },
    {
      "cell_type": "code",
      "source": [
        "X_dl_train, X_dl_test, y_dl_train, y_dl_test = train_test_split(X_dl, y_dl, test_size=0.30, random_state=42) "
      ],
      "metadata": {
        "id": "63qdvouC55Ul"
      },
      "execution_count": 98,
      "outputs": []
    },
    {
      "cell_type": "code",
      "source": [
        "from tensorflow.keras.preprocessing.text import text_to_word_sequence\n",
        "\n",
        "def text_to_word(sequence):\n",
        "  return [text_to_word_sequence(_) for _ in sequence]\n"
      ],
      "metadata": {
        "id": "IrFuqQaCGmJS"
      },
      "execution_count": 99,
      "outputs": []
    },
    {
      "cell_type": "code",
      "source": [
        "# transform string into list of words\n",
        "X_dl_new = X_dl.apply(lambda x : text_to_word(x))\n",
        "X_dl_train_new = X_dl_train.apply(lambda x : text_to_word(x))\n",
        "X_dl_test_new = X_dl_test.apply(lambda x : text_to_word(x))"
      ],
      "metadata": {
        "id": "CeL-FflyHZiR"
      },
      "execution_count": 100,
      "outputs": []
    },
    {
      "cell_type": "code",
      "source": [
        "from tensorflow.keras.preprocessing.sequence import pad_sequences"
      ],
      "metadata": {
        "id": "krZsMEok58DP"
      },
      "execution_count": 101,
      "outputs": []
    },
    {
      "cell_type": "markdown",
      "source": [
        "### Import Word2Vec Library to make the embedding"
      ],
      "metadata": {
        "id": "YtmCZj3EjIYw"
      }
    },
    {
      "cell_type": "code",
      "source": [
        "import gensim.downloader\n",
        "model_twitter = gensim.downloader.load('glove-twitter-200')"
      ],
      "metadata": {
        "id": "xwpzQuVO7iNC"
      },
      "execution_count": 102,
      "outputs": []
    },
    {
      "cell_type": "code",
      "source": [
        "from gensim.models import Word2Vec\n",
        "\n",
        "word2vec = Word2Vec(sentences=list(X_dl_new['clean_text']), size=200, min_count=0, window=10)"
      ],
      "metadata": {
        "id": "ws6glfXbF0Wx"
      },
      "execution_count": 103,
      "outputs": []
    },
    {
      "cell_type": "code",
      "source": [
        "def embedding(word2vec_transfer, word2vec_custom, file):\n",
        "  new_file = []\n",
        "  for list_ in file:\n",
        "    embeded_sentence = []\n",
        "    for word in list_:\n",
        "      if word in word2vec_transfer:\n",
        "        embeded_word = word2vec_transfer[word]\n",
        "      else :\n",
        "        embeded_word = word2vec_custom[word]\n",
        "      embeded_sentence.append(embeded_word)\n",
        "    new_file.append(np.array(embeded_sentence))\n",
        "  return new_file"
      ],
      "metadata": {
        "id": "Qk-vbcdoSEoW"
      },
      "execution_count": 104,
      "outputs": []
    },
    {
      "cell_type": "code",
      "source": [
        "## Embed the training and test data\n",
        "X_train_embed = embedding(model_twitter,word2vec, list(X_dl_train_new['clean_text']))\n",
        "X_test_embed = embedding(model_twitter,word2vec, list(X_dl_test_new['clean_text']))\n",
        "\n",
        "# Pad the training and test embedded sentences\n",
        "X_train_pad = pad_sequences(X_train_embed, dtype='float32', padding='post', maxlen=200)\n",
        "X_test_pad = pad_sequences(X_test_embed, dtype='float32', padding='post', maxlen=200)"
      ],
      "metadata": {
        "colab": {
          "base_uri": "https://localhost:8080/"
        },
        "id": "JZxfd81kY-TQ",
        "outputId": "33eac324-c90d-4a9f-e220-b7ec1cdbf95e"
      },
      "execution_count": 105,
      "outputs": [
        {
          "output_type": "stream",
          "name": "stderr",
          "text": [
            "/usr/local/lib/python3.7/dist-packages/ipykernel_launcher.py:9: DeprecationWarning: Call to deprecated `__getitem__` (Method will be removed in 4.0.0, use self.wv.__getitem__() instead).\n",
            "  if __name__ == '__main__':\n"
          ]
        }
      ]
    },
    {
      "cell_type": "code",
      "source": [
        "from tensorflow.keras import layers, Sequential\n",
        "from tensorflow.keras.callbacks import EarlyStopping\n",
        "\n",
        "model_rnn = Sequential()\n",
        "\n",
        "model_rnn.add(layers.Masking())\n",
        "model_rnn.add(layers.LSTM(36, activation='tanh',input_shape=(200,200),return_sequences=True))\n",
        "model_rnn.add(layers.LSTM(16, activation='tanh', return_sequences=False))\n",
        "model_rnn.add(layers.Dense(8, activation=\"tanh\"))\n",
        "model_rnn.add(layers.Dense(1, activation=\"sigmoid\"))\n",
        "\n",
        "model_rnn.compile(loss='binary_crossentropy',\n",
        "              optimizer='rmsprop',\n",
        "              metrics=['accuracy','Recall','Precision'])\n",
        "\n",
        "es = EarlyStopping(patience=10, restore_best_weights=True)\n",
        "\n",
        "model_rnn.fit(X_train_pad, y_dl_train, validation_split=0.3, epochs=20, batch_size=16, verbose=1, callbacks=[es])"
      ],
      "metadata": {
        "colab": {
          "base_uri": "https://localhost:8080/"
        },
        "id": "RFKRcek8ZvZY",
        "outputId": "afae2102-9bc4-4932-a51b-346b50d916cd"
      },
      "execution_count": 106,
      "outputs": [
        {
          "output_type": "stream",
          "name": "stdout",
          "text": [
            "Epoch 1/20\n",
            "234/234 [==============================] - 71s 255ms/step - loss: 0.4760 - accuracy: 0.7928 - recall: 0.7044 - precision: 0.7943 - val_loss: 0.5071 - val_accuracy: 0.7661 - val_recall: 0.5363 - val_precision: 0.8703\n",
            "Epoch 2/20\n",
            "234/234 [==============================] - 56s 241ms/step - loss: 0.4083 - accuracy: 0.8273 - recall: 0.7279 - precision: 0.8523 - val_loss: 0.4833 - val_accuracy: 0.7849 - val_recall: 0.6628 - val_precision: 0.8028\n",
            "Epoch 3/20\n",
            "234/234 [==============================] - 55s 237ms/step - loss: 0.3760 - accuracy: 0.8477 - recall: 0.7631 - precision: 0.8696 - val_loss: 0.4786 - val_accuracy: 0.7961 - val_recall: 0.6686 - val_precision: 0.8244\n",
            "Epoch 4/20\n",
            "234/234 [==============================] - 56s 240ms/step - loss: 0.3470 - accuracy: 0.8568 - recall: 0.7767 - precision: 0.8789 - val_loss: 0.4854 - val_accuracy: 0.7867 - val_recall: 0.7180 - val_precision: 0.7707\n",
            "Epoch 5/20\n",
            "234/234 [==============================] - 56s 241ms/step - loss: 0.3198 - accuracy: 0.8737 - recall: 0.8009 - precision: 0.8968 - val_loss: 0.5096 - val_accuracy: 0.7836 - val_recall: 0.7733 - val_precision: 0.7368\n",
            "Epoch 6/20\n",
            "234/234 [==============================] - 56s 238ms/step - loss: 0.2832 - accuracy: 0.8874 - recall: 0.8200 - precision: 0.9113 - val_loss: 0.5244 - val_accuracy: 0.7874 - val_recall: 0.6657 - val_precision: 0.8063\n",
            "Epoch 7/20\n",
            "234/234 [==============================] - 55s 236ms/step - loss: 0.2530 - accuracy: 0.9038 - recall: 0.8404 - precision: 0.9308 - val_loss: 0.5745 - val_accuracy: 0.7886 - val_recall: 0.6337 - val_precision: 0.8352\n",
            "Epoch 8/20\n",
            "234/234 [==============================] - 56s 240ms/step - loss: 0.2179 - accuracy: 0.9174 - recall: 0.8639 - precision: 0.9407 - val_loss: 0.5879 - val_accuracy: 0.7786 - val_recall: 0.7166 - val_precision: 0.7561\n",
            "Epoch 9/20\n",
            "234/234 [==============================] - 56s 239ms/step - loss: 0.1868 - accuracy: 0.9303 - recall: 0.8856 - precision: 0.9502 - val_loss: 0.6633 - val_accuracy: 0.7780 - val_recall: 0.7326 - val_precision: 0.7467\n",
            "Epoch 10/20\n",
            "234/234 [==============================] - 56s 238ms/step - loss: 0.1589 - accuracy: 0.9421 - recall: 0.9072 - precision: 0.9569 - val_loss: 0.6995 - val_accuracy: 0.7805 - val_recall: 0.6061 - val_precision: 0.8390\n",
            "Epoch 11/20\n",
            "234/234 [==============================] - 56s 237ms/step - loss: 0.1389 - accuracy: 0.9504 - recall: 0.9177 - precision: 0.9661 - val_loss: 0.7612 - val_accuracy: 0.7692 - val_recall: 0.7020 - val_precision: 0.7465\n",
            "Epoch 12/20\n",
            "234/234 [==============================] - 56s 238ms/step - loss: 0.1185 - accuracy: 0.9595 - recall: 0.9369 - precision: 0.9687 - val_loss: 0.8029 - val_accuracy: 0.7649 - val_recall: 0.7238 - val_precision: 0.7281\n",
            "Epoch 13/20\n",
            "234/234 [==============================] - 56s 240ms/step - loss: 0.1015 - accuracy: 0.9635 - recall: 0.9450 - precision: 0.9702 - val_loss: 0.9281 - val_accuracy: 0.7580 - val_recall: 0.7267 - val_precision: 0.7153\n"
          ]
        },
        {
          "output_type": "execute_result",
          "data": {
            "text/plain": [
              "<keras.callbacks.History at 0x7f7d1bba3f90>"
            ]
          },
          "metadata": {},
          "execution_count": 106
        }
      ]
    },
    {
      "cell_type": "code",
      "source": [
        "model_rnn.evaluate(X_test_pad,y_dl_test)"
      ],
      "metadata": {
        "colab": {
          "base_uri": "https://localhost:8080/"
        },
        "id": "3fn0drMX19kk",
        "outputId": "176b3f29-3b7e-43ca-cfd5-775fb5aee9d0"
      },
      "execution_count": 107,
      "outputs": [
        {
          "output_type": "stream",
          "name": "stdout",
          "text": [
            "72/72 [==============================] - 4s 58ms/step - loss: 0.4239 - accuracy: 0.8170 - recall: 0.6977 - precision: 0.8425\n"
          ]
        },
        {
          "output_type": "execute_result",
          "data": {
            "text/plain": [
              "[0.423895001411438, 0.8169877529144287, 0.6977225542068481, 0.8424999713897705]"
            ]
          },
          "metadata": {},
          "execution_count": 107
        }
      ]
    },
    {
      "cell_type": "markdown",
      "source": [
        "### Transform data_test"
      ],
      "metadata": {
        "id": "KKeCE7hnBeZX"
      }
    },
    {
      "cell_type": "code",
      "source": [
        "# transform string into list of words\n",
        "X_to_predict = data_test[['clean_text']].apply(lambda x : text_to_word(x))\n",
        "\n",
        "# create a custom embedding with Word2vec\n",
        "word2vec_v2 = Word2Vec(sentences=list(X_to_predict['clean_text']), size=200, min_count=0, window=10)\n",
        "\n",
        "# apply a transfer embedding and the custmom embedding to the data\n",
        "X_to_predict_embed = embedding(model_twitter,word2vec_v2, list(X_to_predict['clean_text']))\n",
        "\n",
        "# pad the data\n",
        "X_to_predict_pad = pad_sequences(X_to_predict_embed, dtype='float32', padding='post', maxlen=200)"
      ],
      "metadata": {
        "colab": {
          "base_uri": "https://localhost:8080/"
        },
        "id": "iBWES6Pj9FLR",
        "outputId": "e6884b40-b795-46b3-edd0-0ae6dc616b7f"
      },
      "execution_count": 108,
      "outputs": [
        {
          "output_type": "stream",
          "name": "stderr",
          "text": [
            "/usr/local/lib/python3.7/dist-packages/ipykernel_launcher.py:9: DeprecationWarning: Call to deprecated `__getitem__` (Method will be removed in 4.0.0, use self.wv.__getitem__() instead).\n",
            "  if __name__ == '__main__':\n"
          ]
        }
      ]
    },
    {
      "cell_type": "code",
      "source": [
        "# make the prediction\n",
        "y_predicted_dl = model_rnn.predict(X_to_predict_pad)"
      ],
      "metadata": {
        "id": "iRu2y9QwDBdP"
      },
      "execution_count": 109,
      "outputs": []
    },
    {
      "cell_type": "code",
      "source": [
        "#add predicted column according to a probability threshold\n",
        "temp = pd.DataFrame(y_predicted_dl)\n",
        "data_test_dl = pd.concat((data_test[['text']],temp), axis=1)\n",
        "data_test_dl['predicted'] = 0\n",
        "\n",
        "threshold = 0.7\n",
        "data_test_dl['predicted'][data_test_dl[0] >= threshold] = 1\n",
        "\n",
        "# save the file\n",
        "data_test[['id','keyword','location','text','predicted']].to_csv('DL_test_predicted')"
      ],
      "metadata": {
        "colab": {
          "base_uri": "https://localhost:8080/"
        },
        "id": "6eu6Vu_3B5_N",
        "outputId": "ef069f43-9611-4304-89ad-b7cdfa7a34de"
      },
      "execution_count": 110,
      "outputs": [
        {
          "output_type": "stream",
          "name": "stderr",
          "text": [
            "/usr/local/lib/python3.7/dist-packages/ipykernel_launcher.py:7: SettingWithCopyWarning: \n",
            "A value is trying to be set on a copy of a slice from a DataFrame\n",
            "\n",
            "See the caveats in the documentation: https://pandas.pydata.org/pandas-docs/stable/user_guide/indexing.html#returning-a-view-versus-a-copy\n",
            "  import sys\n"
          ]
        }
      ]
    },
    {
      "cell_type": "code",
      "source": [
        ""
      ],
      "metadata": {
        "id": "k6NOjVK3269t"
      },
      "execution_count": null,
      "outputs": []
    }
  ]
}